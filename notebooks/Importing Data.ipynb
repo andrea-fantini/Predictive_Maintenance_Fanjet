{
 "cells": [
  {
   "cell_type": "markdown",
   "metadata": {},
   "source": [
    "<h1 id=\"tocheading\">Table of Contents</h1>\n",
    "<div id=\"toc\"></div>"
   ]
  },
  {
   "cell_type": "code",
   "execution_count": 1,
   "metadata": {},
   "outputs": [
    {
     "data": {
      "application/javascript": [
       "$.getScript('https://kmahelona.github.io/ipython_notebook_goodies/ipython_notebook_toc.js')\n",
       "\n",
       "// needed to generate the Table of contents \n",
       "// taken from github.com/kmahelona/ipython_notebook_goodies\n"
      ],
      "text/plain": [
       "<IPython.core.display.Javascript object>"
      ]
     },
     "metadata": {},
     "output_type": "display_data"
    }
   ],
   "source": [
    "%%javascript\n",
    "$.getScript('https://kmahelona.github.io/ipython_notebook_goodies/ipython_notebook_toc.js')\n",
    "\n",
    "// needed to generate the Table of contents \n",
    "// taken from github.com/kmahelona/ipython_notebook_goodies"
   ]
  },
  {
   "cell_type": "markdown",
   "metadata": {},
   "source": [
    "(To work with Atom and Jupyter at the same time)"
   ]
  },
  {
   "cell_type": "code",
   "execution_count": null,
   "metadata": {},
   "outputs": [],
   "source": [
    "%load_ext autoreload\n",
    "%autoreload 2"
   ]
  },
  {
   "cell_type": "markdown",
   "metadata": {},
   "source": [
    "# Tubofan Engine Predictive Maintenance (Template)\n",
    " \n",
    "1. Problem Identification\n",
    "2. **Data Wrangling**\n",
    "   - Data Collection\n",
    "       - Locating the data\n",
    "       - Data loading\n",
    "       - Data joining\n",
    "    - Data Organization\n",
    "        - File structure\n",
    "        - Git & Github\n",
    "    - Data Definition\n",
    "        - Column names\n",
    "        - Data types (numeric, categorical, timestamp, etc.)\n",
    "        - Description of the columns\n",
    "        - Count or percent per unique values or codes (including NA)\n",
    "        - The range of values or codes\n",
    "    - Data Cleaning\n",
    "        - NA or missing data\n",
    "        - Duplicates\n",
    "3. Exploratory Data Analysis\n",
    "\n",
    "4. Pre-processing and Training Data Development\n",
    "\n",
    "5. Modeling\n",
    "\n",
    "6. Documentation"
   ]
  },
  {
   "cell_type": "markdown",
   "metadata": {},
   "source": [
    "# Data Wrangling"
   ]
  },
  {
   "cell_type": "markdown",
   "metadata": {},
   "source": [
    "## Data Collection"
   ]
  },
  {
   "cell_type": "code",
   "execution_count": null,
   "metadata": {},
   "outputs": [],
   "source": [
    "#load python packages\n",
    "import os\n",
    "import glob\n",
    "import pandas as pd\n",
    "#import datetime\n",
    "#import seaborn as sns\n",
    "#import matplotlib.pyplot as plt\n",
    "import numpy as np\n",
    "%matplotlib inline"
   ]
  },
  {
   "cell_type": "code",
   "execution_count": null,
   "metadata": {},
   "outputs": [],
   "source": [
    "#navigate to the data folder\n",
    "os.chdir('..')\n",
    "print(os.getcwd())"
   ]
  },
  {
   "cell_type": "code",
   "execution_count": null,
   "metadata": {
    "scrolled": true
   },
   "outputs": [],
   "source": [
    "# Download data in data/raw folder\n",
    "! mkdir data/raw\n",
    "! cd data/raw && wget -O turbofan.zip https://ti.arc.nasa.gov/c/6/ && unzip -o *.zip\n",
    "! cd data/raw && rm *.zip\n",
    "\n",
    "#NOTE the cd executed with the magic commanda do not change the working directory of the python script\n",
    "#We are still working off the project root folder"
   ]
  },
  {
   "cell_type": "code",
   "execution_count": null,
   "metadata": {},
   "outputs": [],
   "source": [
    "# define column names\n",
    "sensors_list = [\"s{}\".format(s) for s in range(1,22)]\n",
    "train_cols = ['unit_number','cycle_time','op_setting_1', 'op_setting_2', 'op_setting_3'] + sensors_list\n",
    "test_cols = train_cols\n",
    "RUL_cols = ['RUL']\n"
   ]
  },
  {
   "cell_type": "code",
   "execution_count": null,
   "metadata": {
    "scrolled": true
   },
   "outputs": [],
   "source": [
    "# load Training data\n",
    "file_paths = glob.glob(\"data/raw/train_*.txt\")\n",
    "\n",
    "df_list = []\n",
    "for file_path in file_paths : \n",
    "    # read txt file\n",
    "    individual_df = pd.read_csv(file_path, sep=' ', header=None, usecols = [i for i in range(26)])\n",
    "    individual_df.columns = train_cols\n",
    "    #extract dataset Id from filename\n",
    "    data_set=file_path[-9:-4]\n",
    "    individual_df['dataset']=file_path[-9:-4] \n",
    "    #append temporary dataframe to list\n",
    "    df_list.append(individual_df)\n",
    "#merge into single dataframe\n",
    "df_train=pd.concat(df_list)\n",
    "df_train.head()\n",
    "\n",
    "# write to csv\n",
    "df_train.to_csv('data/train.csv', index=False)"
   ]
  },
  {
   "cell_type": "code",
   "execution_count": null,
   "metadata": {},
   "outputs": [],
   "source": [
    "# load Test data\n",
    "file_paths = glob.glob(\"data/raw/test_*.txt\")\n",
    "\n",
    "df_list = []\n",
    "for file_path in file_paths : \n",
    "    # read txt file\n",
    "    individual_df = pd.read_csv(file_path, sep=' ', header=None, usecols = [i for i in range(26)])\n",
    "    individual_df.columns = test_cols\n",
    "    #extract dataset Id from filename\n",
    "    data_set=file_path[-9:-4]\n",
    "    individual_df['dataset']=file_path[-9:-4] \n",
    "    #append temporary dataframe to list\n",
    "    df_list.append(individual_df)\n",
    "#merge into single dataframe\n",
    "df_test=pd.concat(df_list)\n",
    "df_test.head()\n",
    "\n",
    "# write to csv\n",
    "df_test.to_csv('data/test.csv', index=False)"
   ]
  },
  {
   "cell_type": "code",
   "execution_count": null,
   "metadata": {},
   "outputs": [],
   "source": [
    "# load RUL data\n",
    "file_paths = glob.glob(\"data/raw/RUL_*.txt\")\n",
    "\n",
    "df_list = []\n",
    "for file_path in file_paths : \n",
    "    # read txt file\n",
    "    individual_df = pd.read_csv(file_path, sep=' ', header=None, usecols=[0])\n",
    "    individual_df.columns = RUL_cols\n",
    "    #extract dataset Id from filename\n",
    "    data_set=file_path[-9:-4]\n",
    "    individual_df['dataset']=file_path[-9:-4] \n",
    "    #append temporary dataframe to list\n",
    "    df_list.append(individual_df)\n",
    "#merge into single dataframe\n",
    "df_RUL=pd.concat(df_list)\n",
    "df_RUL.head()\n",
    "\n",
    "# write to csv\n",
    "df_RUL.to_csv('data/RUL.csv', index=False)"
   ]
  },
  {
   "cell_type": "markdown",
   "metadata": {},
   "source": [
    "Include description of filestructure"
   ]
  }
 ],
 "metadata": {
  "kernelspec": {
   "display_name": "Python [conda env:Jet]",
   "language": "python",
   "name": "conda-env-Jet-py"
  },
  "language_info": {
   "codemirror_mode": {
    "name": "ipython",
    "version": 3
   },
   "file_extension": ".py",
   "mimetype": "text/x-python",
   "name": "python",
   "nbconvert_exporter": "python",
   "pygments_lexer": "ipython3",
   "version": "3.5.5"
  }
 },
 "nbformat": 4,
 "nbformat_minor": 4
}
