{
 "cells": [
  {
   "cell_type": "markdown",
   "metadata": {},
   "source": [
    "<h1 id=\"tocheading\">Table of Contents</h1>\n",
    "<div id=\"toc\"></div>"
   ]
  },
  {
   "cell_type": "code",
   "execution_count": 1,
   "metadata": {},
   "outputs": [
    {
     "data": {
      "application/javascript": [
       "$.getScript('https://kmahelona.github.io/ipython_notebook_goodies/ipython_notebook_toc.js')\n",
       "\n",
       "// needed to generate the Table of contents \n",
       "// taken from github.com/kmahelona/ipython_notebook_goodies\n"
      ],
      "text/plain": [
       "<IPython.core.display.Javascript object>"
      ]
     },
     "metadata": {},
     "output_type": "display_data"
    }
   ],
   "source": [
    "%%javascript\n",
    "$.getScript('https://kmahelona.github.io/ipython_notebook_goodies/ipython_notebook_toc.js')\n",
    "\n",
    "// needed to generate the Table of contents \n",
    "// taken from github.com/kmahelona/ipython_notebook_goodies"
   ]
  },
  {
   "cell_type": "markdown",
   "metadata": {},
   "source": [
    "# Modeling\n",
    "Importing modules and data from prevoius step\n"
   ]
  },
  {
   "cell_type": "code",
   "execution_count": 186,
   "metadata": {},
   "outputs": [],
   "source": [
    "## Fit Models with Training Data Set\n",
    "import pandas as pd\n",
    "import numpy as np\n",
    "import joblib\n",
    "from sklearn.preprocessing import MinMaxScaler\n",
    "from sklearn.metrics import confusion_matrix\n",
    "import matplotlib.pyplot as plt\n",
    "import matplotlib.style as style\n",
    "style.use('fast')\n",
    "\n",
    "import seaborn as sns"
   ]
  },
  {
   "cell_type": "code",
   "execution_count": 187,
   "metadata": {},
   "outputs": [],
   "source": [
    "from timeit import default_timer as timer\n",
    "from datetime import datetime\n",
    "from tqdm.auto import tqdm\n",
    "from sklearn.neighbors import KNeighborsClassifier\n",
    "from sklearn.svm import SVC\n",
    "from sklearn.tree import DecisionTreeClassifier\n",
    "from sklearn.ensemble import RandomForestClassifier, AdaBoostClassifier, GradientBoostingClassifier\n",
    "from sklearn.dummy import DummyClassifier\n",
    "from sklearn.model_selection import cross_val_score\n",
    "from sklearn.model_selection import GridSearchCV\n",
    "from sklearn.metrics import make_scorer"
   ]
  },
  {
   "cell_type": "code",
   "execution_count": 4,
   "metadata": {},
   "outputs": [],
   "source": [
    "#Load data and scaler model\n",
    "\n",
    "X_train_scaled = pd.read_csv(\"../data/X_train_scaled.csv\").to_numpy()\n",
    "y_train = pd.read_csv(\"../data/y_train.csv\").to_numpy().ravel()\n",
    "X_train_over_scaled = pd.read_csv(\"../data/X_train_over_scaled.csv\").to_numpy()\n",
    "y_train_over = pd.read_csv(\"../data/y_train_over.csv\").to_numpy().ravel()\n",
    "X_test_scaled = pd.read_csv(\"../data/X_test_scaled.csv\").to_numpy()\n",
    "y_test = pd.read_csv(\"../data/y_test.csv\").to_numpy().ravel()\n",
    "feature_list = pd.read_csv(\"../data/feature_list.csv\")\n",
    "feature_list = pd.Index(list(feature_list[\"0\"]))\n",
    "\n",
    "scaler = joblib.load(\"../data/scaler.pkl\")"
   ]
  },
  {
   "cell_type": "code",
   "execution_count": 5,
   "metadata": {},
   "outputs": [
    {
     "data": {
      "text/html": [
       "<div>\n",
       "<style scoped>\n",
       "    .dataframe tbody tr th:only-of-type {\n",
       "        vertical-align: middle;\n",
       "    }\n",
       "\n",
       "    .dataframe tbody tr th {\n",
       "        vertical-align: top;\n",
       "    }\n",
       "\n",
       "    .dataframe thead th {\n",
       "        text-align: right;\n",
       "    }\n",
       "</style>\n",
       "<table border=\"1\" class=\"dataframe\">\n",
       "  <thead>\n",
       "    <tr style=\"text-align: right;\">\n",
       "      <th></th>\n",
       "      <th>cycle_time</th>\n",
       "      <th>s2</th>\n",
       "      <th>s3</th>\n",
       "      <th>s4</th>\n",
       "      <th>s7</th>\n",
       "      <th>s8</th>\n",
       "      <th>s9</th>\n",
       "      <th>s11</th>\n",
       "      <th>s12</th>\n",
       "      <th>s13</th>\n",
       "      <th>s14</th>\n",
       "      <th>s15</th>\n",
       "      <th>s17</th>\n",
       "      <th>s20</th>\n",
       "      <th>s21</th>\n",
       "    </tr>\n",
       "  </thead>\n",
       "  <tbody>\n",
       "    <tr>\n",
       "      <th>0</th>\n",
       "      <td>0.00000</td>\n",
       "      <td>0.183735</td>\n",
       "      <td>0.406802</td>\n",
       "      <td>0.309757</td>\n",
       "      <td>0.726248</td>\n",
       "      <td>0.242424</td>\n",
       "      <td>0.109755</td>\n",
       "      <td>0.369048</td>\n",
       "      <td>0.633262</td>\n",
       "      <td>0.205882</td>\n",
       "      <td>0.199608</td>\n",
       "      <td>0.363986</td>\n",
       "      <td>0.333333</td>\n",
       "      <td>0.713178</td>\n",
       "      <td>0.724662</td>\n",
       "    </tr>\n",
       "    <tr>\n",
       "      <th>1</th>\n",
       "      <td>0.00277</td>\n",
       "      <td>0.283133</td>\n",
       "      <td>0.453019</td>\n",
       "      <td>0.352633</td>\n",
       "      <td>0.628019</td>\n",
       "      <td>0.212121</td>\n",
       "      <td>0.100242</td>\n",
       "      <td>0.380952</td>\n",
       "      <td>0.765458</td>\n",
       "      <td>0.279412</td>\n",
       "      <td>0.162813</td>\n",
       "      <td>0.411312</td>\n",
       "      <td>0.333333</td>\n",
       "      <td>0.666667</td>\n",
       "      <td>0.731014</td>\n",
       "    </tr>\n",
       "    <tr>\n",
       "      <th>2</th>\n",
       "      <td>0.00554</td>\n",
       "      <td>0.343373</td>\n",
       "      <td>0.369523</td>\n",
       "      <td>0.370527</td>\n",
       "      <td>0.710145</td>\n",
       "      <td>0.272727</td>\n",
       "      <td>0.140043</td>\n",
       "      <td>0.250000</td>\n",
       "      <td>0.795309</td>\n",
       "      <td>0.220588</td>\n",
       "      <td>0.171793</td>\n",
       "      <td>0.357445</td>\n",
       "      <td>0.166667</td>\n",
       "      <td>0.627907</td>\n",
       "      <td>0.621375</td>\n",
       "    </tr>\n",
       "    <tr>\n",
       "      <th>3</th>\n",
       "      <td>0.00831</td>\n",
       "      <td>0.343373</td>\n",
       "      <td>0.256159</td>\n",
       "      <td>0.331195</td>\n",
       "      <td>0.740741</td>\n",
       "      <td>0.318182</td>\n",
       "      <td>0.124518</td>\n",
       "      <td>0.166667</td>\n",
       "      <td>0.889126</td>\n",
       "      <td>0.294118</td>\n",
       "      <td>0.174889</td>\n",
       "      <td>0.166603</td>\n",
       "      <td>0.333333</td>\n",
       "      <td>0.573643</td>\n",
       "      <td>0.662386</td>\n",
       "    </tr>\n",
       "    <tr>\n",
       "      <th>4</th>\n",
       "      <td>0.01108</td>\n",
       "      <td>0.349398</td>\n",
       "      <td>0.257467</td>\n",
       "      <td>0.404625</td>\n",
       "      <td>0.668277</td>\n",
       "      <td>0.242424</td>\n",
       "      <td>0.149960</td>\n",
       "      <td>0.255952</td>\n",
       "      <td>0.746269</td>\n",
       "      <td>0.235294</td>\n",
       "      <td>0.174734</td>\n",
       "      <td>0.402078</td>\n",
       "      <td>0.416667</td>\n",
       "      <td>0.589147</td>\n",
       "      <td>0.704502</td>\n",
       "    </tr>\n",
       "  </tbody>\n",
       "</table>\n",
       "</div>"
      ],
      "text/plain": [
       "   cycle_time        s2        s3        s4        s7        s8        s9  \\\n",
       "0     0.00000  0.183735  0.406802  0.309757  0.726248  0.242424  0.109755   \n",
       "1     0.00277  0.283133  0.453019  0.352633  0.628019  0.212121  0.100242   \n",
       "2     0.00554  0.343373  0.369523  0.370527  0.710145  0.272727  0.140043   \n",
       "3     0.00831  0.343373  0.256159  0.331195  0.740741  0.318182  0.124518   \n",
       "4     0.01108  0.349398  0.257467  0.404625  0.668277  0.242424  0.149960   \n",
       "\n",
       "        s11       s12       s13       s14       s15       s17       s20  \\\n",
       "0  0.369048  0.633262  0.205882  0.199608  0.363986  0.333333  0.713178   \n",
       "1  0.380952  0.765458  0.279412  0.162813  0.411312  0.333333  0.666667   \n",
       "2  0.250000  0.795309  0.220588  0.171793  0.357445  0.166667  0.627907   \n",
       "3  0.166667  0.889126  0.294118  0.174889  0.166603  0.333333  0.573643   \n",
       "4  0.255952  0.746269  0.235294  0.174734  0.402078  0.416667  0.589147   \n",
       "\n",
       "        s21  \n",
       "0  0.724662  \n",
       "1  0.731014  \n",
       "2  0.621375  \n",
       "3  0.662386  \n",
       "4  0.704502  "
      ]
     },
     "execution_count": 5,
     "metadata": {},
     "output_type": "execute_result"
    }
   ],
   "source": [
    "train_df = pd.DataFrame(X_train_scaled, columns = feature_list)\n",
    "train_df.head()"
   ]
  },
  {
   "cell_type": "code",
   "execution_count": 6,
   "metadata": {},
   "outputs": [
    {
     "data": {
      "text/html": [
       "<div>\n",
       "<style scoped>\n",
       "    .dataframe tbody tr th:only-of-type {\n",
       "        vertical-align: middle;\n",
       "    }\n",
       "\n",
       "    .dataframe tbody tr th {\n",
       "        vertical-align: top;\n",
       "    }\n",
       "\n",
       "    .dataframe thead th {\n",
       "        text-align: right;\n",
       "    }\n",
       "</style>\n",
       "<table border=\"1\" class=\"dataframe\">\n",
       "  <thead>\n",
       "    <tr style=\"text-align: right;\">\n",
       "      <th></th>\n",
       "      <th>cycle_time</th>\n",
       "      <th>s2</th>\n",
       "      <th>s3</th>\n",
       "      <th>s4</th>\n",
       "      <th>s7</th>\n",
       "      <th>s8</th>\n",
       "      <th>s9</th>\n",
       "      <th>s11</th>\n",
       "      <th>s12</th>\n",
       "      <th>s13</th>\n",
       "      <th>s14</th>\n",
       "      <th>s15</th>\n",
       "      <th>s17</th>\n",
       "      <th>s20</th>\n",
       "      <th>s21</th>\n",
       "    </tr>\n",
       "  </thead>\n",
       "  <tbody>\n",
       "    <tr>\n",
       "      <th>0</th>\n",
       "      <td>0.576177</td>\n",
       "      <td>0.933735</td>\n",
       "      <td>0.596032</td>\n",
       "      <td>0.808913</td>\n",
       "      <td>0.294686</td>\n",
       "      <td>0.666667</td>\n",
       "      <td>0.019923</td>\n",
       "      <td>0.821429</td>\n",
       "      <td>0.249467</td>\n",
       "      <td>0.558824</td>\n",
       "      <td>0.025183</td>\n",
       "      <td>0.874952</td>\n",
       "      <td>0.750000</td>\n",
       "      <td>0.232558</td>\n",
       "      <td>0.255316</td>\n",
       "    </tr>\n",
       "    <tr>\n",
       "      <th>1</th>\n",
       "      <td>0.531856</td>\n",
       "      <td>0.647590</td>\n",
       "      <td>0.526924</td>\n",
       "      <td>0.633187</td>\n",
       "      <td>0.439614</td>\n",
       "      <td>0.378788</td>\n",
       "      <td>0.422911</td>\n",
       "      <td>0.517857</td>\n",
       "      <td>0.520256</td>\n",
       "      <td>0.235294</td>\n",
       "      <td>0.463980</td>\n",
       "      <td>0.529434</td>\n",
       "      <td>0.583333</td>\n",
       "      <td>0.465116</td>\n",
       "      <td>0.352665</td>\n",
       "    </tr>\n",
       "    <tr>\n",
       "      <th>2</th>\n",
       "      <td>0.792244</td>\n",
       "      <td>0.524096</td>\n",
       "      <td>0.629387</td>\n",
       "      <td>0.910702</td>\n",
       "      <td>0.322061</td>\n",
       "      <td>0.560606</td>\n",
       "      <td>0.126447</td>\n",
       "      <td>0.785714</td>\n",
       "      <td>0.219616</td>\n",
       "      <td>0.661765</td>\n",
       "      <td>0.093044</td>\n",
       "      <td>0.825702</td>\n",
       "      <td>0.583333</td>\n",
       "      <td>0.387597</td>\n",
       "      <td>0.320077</td>\n",
       "    </tr>\n",
       "    <tr>\n",
       "      <th>3</th>\n",
       "      <td>0.448753</td>\n",
       "      <td>0.704819</td>\n",
       "      <td>0.373011</td>\n",
       "      <td>0.614619</td>\n",
       "      <td>0.520129</td>\n",
       "      <td>0.363636</td>\n",
       "      <td>0.314502</td>\n",
       "      <td>0.511905</td>\n",
       "      <td>0.494670</td>\n",
       "      <td>0.338235</td>\n",
       "      <td>0.322531</td>\n",
       "      <td>0.443247</td>\n",
       "      <td>0.583333</td>\n",
       "      <td>0.403101</td>\n",
       "      <td>0.488401</td>\n",
       "    </tr>\n",
       "    <tr>\n",
       "      <th>4</th>\n",
       "      <td>0.554017</td>\n",
       "      <td>0.665663</td>\n",
       "      <td>0.751908</td>\n",
       "      <td>0.854828</td>\n",
       "      <td>0.285024</td>\n",
       "      <td>0.303030</td>\n",
       "      <td>0.521583</td>\n",
       "      <td>0.678571</td>\n",
       "      <td>0.336887</td>\n",
       "      <td>0.411765</td>\n",
       "      <td>0.568170</td>\n",
       "      <td>0.642940</td>\n",
       "      <td>0.750000</td>\n",
       "      <td>0.240310</td>\n",
       "      <td>0.159348</td>\n",
       "    </tr>\n",
       "  </tbody>\n",
       "</table>\n",
       "</div>"
      ],
      "text/plain": [
       "   cycle_time        s2        s3        s4        s7        s8        s9  \\\n",
       "0    0.576177  0.933735  0.596032  0.808913  0.294686  0.666667  0.019923   \n",
       "1    0.531856  0.647590  0.526924  0.633187  0.439614  0.378788  0.422911   \n",
       "2    0.792244  0.524096  0.629387  0.910702  0.322061  0.560606  0.126447   \n",
       "3    0.448753  0.704819  0.373011  0.614619  0.520129  0.363636  0.314502   \n",
       "4    0.554017  0.665663  0.751908  0.854828  0.285024  0.303030  0.521583   \n",
       "\n",
       "        s11       s12       s13       s14       s15       s17       s20  \\\n",
       "0  0.821429  0.249467  0.558824  0.025183  0.874952  0.750000  0.232558   \n",
       "1  0.517857  0.520256  0.235294  0.463980  0.529434  0.583333  0.465116   \n",
       "2  0.785714  0.219616  0.661765  0.093044  0.825702  0.583333  0.387597   \n",
       "3  0.511905  0.494670  0.338235  0.322531  0.443247  0.583333  0.403101   \n",
       "4  0.678571  0.336887  0.411765  0.568170  0.642940  0.750000  0.240310   \n",
       "\n",
       "        s21  \n",
       "0  0.255316  \n",
       "1  0.352665  \n",
       "2  0.320077  \n",
       "3  0.488401  \n",
       "4  0.159348  "
      ]
     },
     "execution_count": 6,
     "metadata": {},
     "output_type": "execute_result"
    }
   ],
   "source": [
    "train_over_df = pd.DataFrame(X_train_over_scaled, columns = feature_list)\n",
    "train_over_df.head()"
   ]
  },
  {
   "cell_type": "code",
   "execution_count": 7,
   "metadata": {
    "scrolled": true
   },
   "outputs": [
    {
     "data": {
      "text/html": [
       "<div>\n",
       "<style scoped>\n",
       "    .dataframe tbody tr th:only-of-type {\n",
       "        vertical-align: middle;\n",
       "    }\n",
       "\n",
       "    .dataframe tbody tr th {\n",
       "        vertical-align: top;\n",
       "    }\n",
       "\n",
       "    .dataframe thead th {\n",
       "        text-align: right;\n",
       "    }\n",
       "</style>\n",
       "<table border=\"1\" class=\"dataframe\">\n",
       "  <thead>\n",
       "    <tr style=\"text-align: right;\">\n",
       "      <th></th>\n",
       "      <th>cycle_time</th>\n",
       "      <th>s2</th>\n",
       "      <th>s3</th>\n",
       "      <th>s4</th>\n",
       "      <th>s7</th>\n",
       "      <th>s8</th>\n",
       "      <th>s9</th>\n",
       "      <th>s11</th>\n",
       "      <th>s12</th>\n",
       "      <th>s13</th>\n",
       "      <th>s14</th>\n",
       "      <th>s15</th>\n",
       "      <th>s17</th>\n",
       "      <th>s20</th>\n",
       "      <th>s21</th>\n",
       "    </tr>\n",
       "  </thead>\n",
       "  <tbody>\n",
       "    <tr>\n",
       "      <th>0</th>\n",
       "      <td>0.00000</td>\n",
       "      <td>0.545181</td>\n",
       "      <td>0.310661</td>\n",
       "      <td>0.269413</td>\n",
       "      <td>0.652174</td>\n",
       "      <td>0.212121</td>\n",
       "      <td>0.127614</td>\n",
       "      <td>0.208333</td>\n",
       "      <td>0.646055</td>\n",
       "      <td>0.220588</td>\n",
       "      <td>0.132160</td>\n",
       "      <td>0.308965</td>\n",
       "      <td>0.333333</td>\n",
       "      <td>0.558140</td>\n",
       "      <td>0.661834</td>\n",
       "    </tr>\n",
       "    <tr>\n",
       "      <th>1</th>\n",
       "      <td>0.00277</td>\n",
       "      <td>0.150602</td>\n",
       "      <td>0.379551</td>\n",
       "      <td>0.222316</td>\n",
       "      <td>0.805153</td>\n",
       "      <td>0.166667</td>\n",
       "      <td>0.146684</td>\n",
       "      <td>0.386905</td>\n",
       "      <td>0.739872</td>\n",
       "      <td>0.264706</td>\n",
       "      <td>0.204768</td>\n",
       "      <td>0.213159</td>\n",
       "      <td>0.416667</td>\n",
       "      <td>0.682171</td>\n",
       "      <td>0.686827</td>\n",
       "    </tr>\n",
       "    <tr>\n",
       "      <th>2</th>\n",
       "      <td>0.00554</td>\n",
       "      <td>0.376506</td>\n",
       "      <td>0.346632</td>\n",
       "      <td>0.322248</td>\n",
       "      <td>0.685990</td>\n",
       "      <td>0.227273</td>\n",
       "      <td>0.158081</td>\n",
       "      <td>0.386905</td>\n",
       "      <td>0.699360</td>\n",
       "      <td>0.220588</td>\n",
       "      <td>0.155640</td>\n",
       "      <td>0.458638</td>\n",
       "      <td>0.416667</td>\n",
       "      <td>0.728682</td>\n",
       "      <td>0.721348</td>\n",
       "    </tr>\n",
       "    <tr>\n",
       "      <th>3</th>\n",
       "      <td>0.00831</td>\n",
       "      <td>0.370482</td>\n",
       "      <td>0.285154</td>\n",
       "      <td>0.408001</td>\n",
       "      <td>0.679549</td>\n",
       "      <td>0.196970</td>\n",
       "      <td>0.105717</td>\n",
       "      <td>0.255952</td>\n",
       "      <td>0.573561</td>\n",
       "      <td>0.250000</td>\n",
       "      <td>0.170090</td>\n",
       "      <td>0.257022</td>\n",
       "      <td>0.250000</td>\n",
       "      <td>0.666667</td>\n",
       "      <td>0.662110</td>\n",
       "    </tr>\n",
       "    <tr>\n",
       "      <th>4</th>\n",
       "      <td>0.01108</td>\n",
       "      <td>0.391566</td>\n",
       "      <td>0.352082</td>\n",
       "      <td>0.332039</td>\n",
       "      <td>0.694042</td>\n",
       "      <td>0.166667</td>\n",
       "      <td>0.102396</td>\n",
       "      <td>0.273810</td>\n",
       "      <td>0.737740</td>\n",
       "      <td>0.220588</td>\n",
       "      <td>0.152751</td>\n",
       "      <td>0.300885</td>\n",
       "      <td>0.166667</td>\n",
       "      <td>0.658915</td>\n",
       "      <td>0.716377</td>\n",
       "    </tr>\n",
       "  </tbody>\n",
       "</table>\n",
       "</div>"
      ],
      "text/plain": [
       "   cycle_time        s2        s3        s4        s7        s8        s9  \\\n",
       "0     0.00000  0.545181  0.310661  0.269413  0.652174  0.212121  0.127614   \n",
       "1     0.00277  0.150602  0.379551  0.222316  0.805153  0.166667  0.146684   \n",
       "2     0.00554  0.376506  0.346632  0.322248  0.685990  0.227273  0.158081   \n",
       "3     0.00831  0.370482  0.285154  0.408001  0.679549  0.196970  0.105717   \n",
       "4     0.01108  0.391566  0.352082  0.332039  0.694042  0.166667  0.102396   \n",
       "\n",
       "        s11       s12       s13       s14       s15       s17       s20  \\\n",
       "0  0.208333  0.646055  0.220588  0.132160  0.308965  0.333333  0.558140   \n",
       "1  0.386905  0.739872  0.264706  0.204768  0.213159  0.416667  0.682171   \n",
       "2  0.386905  0.699360  0.220588  0.155640  0.458638  0.416667  0.728682   \n",
       "3  0.255952  0.573561  0.250000  0.170090  0.257022  0.250000  0.666667   \n",
       "4  0.273810  0.737740  0.220588  0.152751  0.300885  0.166667  0.658915   \n",
       "\n",
       "        s21  \n",
       "0  0.661834  \n",
       "1  0.686827  \n",
       "2  0.721348  \n",
       "3  0.662110  \n",
       "4  0.716377  "
      ]
     },
     "execution_count": 7,
     "metadata": {},
     "output_type": "execute_result"
    }
   ],
   "source": [
    "test_df = pd.DataFrame(X_test_scaled, columns = feature_list)\n",
    "test_df.head()"
   ]
  },
  {
   "cell_type": "markdown",
   "metadata": {},
   "source": [
    "## Fit Models with Training Data Set\n",
    "\n",
    "Let's build some useful functions"
   ]
  },
  {
   "cell_type": "code",
   "execution_count": 107,
   "metadata": {},
   "outputs": [],
   "source": [
    "def my_cost_function(y_test, y_pred):\n",
    "    cost_matrix = [[0,1,1],[1,0,1],[20,10,0]]\n",
    "    conf_matrix = confusion_matrix(y_test, y_pred)\n",
    "    loss = -np.sum(conf_matrix*cost_matrix)\n",
    "    return loss\n",
    "\n",
    "my_score = make_scorer(my_cost_function, greater_is_better=False)"
   ]
  },
  {
   "cell_type": "code",
   "execution_count": 108,
   "metadata": {},
   "outputs": [],
   "source": [
    "def try_model(model, X_train, y_train, X_test, y_test):\n",
    "    \"\"\" Fits a model on the selected data with the default parameters \n",
    "    ex. usage \n",
    "        summary = try_model(KNeighborsClassifier(),X_train, y_train)\"\"\"\n",
    "    # statements\n",
    "    print('Trying Model :'+ str(model))\n",
    "    start = timer()\n",
    "    model.fit(X_train, y_train)\n",
    "    middle = timer()\n",
    "    test_score = model.score(X_test, y_test)\n",
    "    end = timer()\n",
    "    train_score = model.score(X_train, y_train) \n",
    "    \n",
    "    \n",
    "    #my_test_score = cross_val_score(model, X_test, y_test, cv=5, scoring=my_score)\n",
    "    #print(\"|  Mean Cost: %0.2f (+/- %0.2f)\" % (my_test_score.mean(), my_test_score.std() * 2))\n",
    "    \n",
    "    # calculate confusion matrix\n",
    "    y_pred = model.predict(X_test)\n",
    "    cm = confusion_matrix(y_test, y_pred)\n",
    "    cost = my_cost_function(y_test, y_pred)\n",
    "    \n",
    "    print('|  Train Score: ' + str(round(train_score,3)))\n",
    "    print('|  Test Score: ' + str(round(test_score,3)))\n",
    "    \n",
    "    train_elapsed = round(middle - start,3)\n",
    "    test_elapsed = round(end - middle,3)\n",
    "\n",
    "    summary = {'model_name': str(model),\n",
    "               'training time [s]': train_elapsed,\n",
    "               'test time [s]': test_elapsed,\n",
    "               'test accuracy': test_score,\n",
    "               'cost':cost,\n",
    "               'train accuracy': train_score,\n",
    "              'confusion matrix': cm,\n",
    "              'trained_model':model}\n",
    "    #print(summary)\n",
    "    \n",
    "    return summary"
   ]
  },
  {
   "cell_type": "code",
   "execution_count": 244,
   "metadata": {},
   "outputs": [],
   "source": [
    "def plot_multiclass_confusion_matrix(y_test, y_pred, categories):\n",
    "    \"\"\"Plots the confusion matrix given the data and the lables.\"\"\"\n",
    "    \n",
    "    cm = confusion_matrix(y_test, y_pred)\n",
    "    #print(cm)\n",
    "    \n",
    "    group_counts = [\"{0:0.0f}\\n\".format(value) for value in cm.flatten()]\n",
    "    group_percentages = [\"{0:.2%}\".format(value) for value in cm.flatten()/np.sum(cm)]\n",
    "    stats_text = \"\\n\\nAccuracy={:0.2f}%\".format(100*np.trace(cm) / float(np.sum(cm)))\n",
    "    \n",
    "    box_labels = [f\"{v2}{v3}\".strip() for v2, v3 in zip(group_counts,group_percentages)]\n",
    "    box_labels = np.asarray(box_labels).reshape(cm.shape[0],cm.shape[1])\n",
    "\n",
    "    fig = plt.figure(figsize=(6,6))\n",
    "    sns.set(font_scale=1.4)\n",
    "    ax = sns.heatmap(cm, annot=box_labels, fmt='', cmap='Reds', xticklabels=categories, yticklabels=categories)\n",
    "    ax.set_ylabel('True Label')\n",
    "    ax.set_xlabel('Predicted Label')\n",
    "    ax.set_title(stats_text)\n",
    "    \n",
    "    return fig, ax\n",
    " "
   ]
  },
  {
   "cell_type": "code",
   "execution_count": 258,
   "metadata": {},
   "outputs": [],
   "source": [
    "def plot_grid_search(cv_results, grid_param_1, grid_param_2, name_param_1, name_param_2):\n",
    "    # Get Test Scores Mean and std for each grid search\n",
    "    scores_mean = cv_results['mean_test_score']\n",
    "    scores_mean = np.array(scores_mean).reshape(len(grid_param_2),len(grid_param_1))\n",
    "\n",
    "    scores_sd = cv_results['std_test_score']\n",
    "    scores_sd = np.array(scores_sd).reshape(len(grid_param_2),len(grid_param_1))\n",
    "\n",
    "    # Plot Grid search scores\n",
    "    _, ax = plt.subplots(1,1)\n",
    "\n",
    "    # Param1 is the X-axis, Param 2 is represented as a different curve (color line)\n",
    "    for idx, val in enumerate(grid_param_2):\n",
    "        ax.plot(grid_param_1, scores_mean[idx,:], '-o', label= name_param_2 + ': ' + str(val))\n",
    "\n",
    "    ax.set_title(\"Grid Search Scores\")\n",
    "    ax.set_xlabel(name_param_1)\n",
    "    ax.set_ylabel('CV Average Score')\n",
    "    ax.legend(loc=\"best\")\n",
    "    ax.grid('on')\n",
    "\n"
   ]
  },
  {
   "cell_type": "code",
   "execution_count": 110,
   "metadata": {},
   "outputs": [],
   "source": [
    "models_summary = pd.DataFrame()\n",
    "models_summary_over = pd.DataFrame()"
   ]
  },
  {
   "cell_type": "markdown",
   "metadata": {},
   "source": [
    "\n",
    "\n",
    "### Dummy Classifier\n"
   ]
  },
  {
   "cell_type": "code",
   "execution_count": 111,
   "metadata": {
    "scrolled": true
   },
   "outputs": [
    {
     "data": {
      "application/vnd.jupyter.widget-view+json": {
       "model_id": "d8047b869a31444e876b41913992deb8",
       "version_major": 2,
       "version_minor": 0
      },
      "text/plain": [
       "HBox(children=(FloatProgress(value=0.0, max=4.0), HTML(value='')))"
      ]
     },
     "metadata": {},
     "output_type": "display_data"
    },
    {
     "name": "stdout",
     "output_type": "stream",
     "text": [
      "Trying Model :DummyClassifier(strategy='most_frequent')\n",
      "|  Train Score: 0.515\n",
      "|  Test Score: 0.761\n",
      "Trying Model :DummyClassifier(strategy='most_frequent')\n",
      "|  Train Score: 0.333\n",
      "|  Test Score: 0.065\n",
      "Trying Model :DummyClassifier(strategy='stratified')\n",
      "|  Train Score: 0.388\n",
      "|  Test Score: 0.454\n",
      "Trying Model :DummyClassifier(strategy='stratified')\n",
      "|  Train Score: 0.33\n",
      "|  Test Score: 0.339\n",
      "Trying Model :DummyClassifier(strategy='prior')\n",
      "|  Train Score: 0.515\n",
      "|  Test Score: 0.761\n",
      "Trying Model :DummyClassifier(strategy='prior')\n",
      "|  Train Score: 0.333\n",
      "|  Test Score: 0.065\n",
      "Trying Model :DummyClassifier(strategy='uniform')\n",
      "|  Train Score: 0.336\n",
      "|  Test Score: 0.334\n",
      "Trying Model :DummyClassifier(strategy='uniform')\n",
      "|  Train Score: 0.338\n",
      "|  Test Score: 0.34\n",
      "\n"
     ]
    }
   ],
   "source": [
    "strategies = ['most_frequent', 'stratified', 'prior', 'uniform']\n",
    "\n",
    "for s in tqdm(strategies) :\n",
    "    res = try_model(DummyClassifier(strategy=s), X_train_scaled, y_train, X_test_scaled, y_test)\n",
    "    models_summary = models_summary.append(res, ignore_index=True)\n",
    "    res_over = try_model(DummyClassifier(strategy=s), X_train_over_scaled, y_train_over, X_test_scaled, y_test)\n",
    "    models_summary_over = models_summary_over.append(res_over, ignore_index=True)\n"
   ]
  },
  {
   "cell_type": "code",
   "execution_count": 112,
   "metadata": {
    "scrolled": true
   },
   "outputs": [
    {
     "data": {
      "text/plain": [
       "<matplotlib.legend.Legend at 0x7f468fd8b490>"
      ]
     },
     "execution_count": 112,
     "metadata": {},
     "output_type": "execute_result"
    },
    {
     "data": {
      "image/png": "[encoded data removed]",
      "text/plain": [
       "<Figure size 432x288 with 1 Axes>"
      ]
     },
     "metadata": {},
     "output_type": "display_data"
    }
   ],
   "source": [
    "clf_dummy = DummyClassifier(strategy='most_frequent').fit(X_train_scaled, y_train)\n",
    "y_dummy = clf_dummy.predict(X_test_scaled)\n",
    "plt.hist([y_dummy, y_test])\n",
    "plt.legend(['Most Frequent Classifier', 'Test Data'])"
   ]
  },
  {
   "cell_type": "code",
   "execution_count": 113,
   "metadata": {
    "scrolled": false
   },
   "outputs": [
    {
     "data": {
      "image/png": "[encoded data removed]",
      "text/plain": [
       "<Figure size 432x432 with 2 Axes>"
      ]
     },
     "metadata": {},
     "output_type": "display_data"
    }
   ],
   "source": [
    "_ = plot_multiclass_confusion_matrix(y_test, clf_dummy.predict(X_test_scaled),['green','yellow','red'])\n"
   ]
  },
  {
   "cell_type": "code",
   "execution_count": 114,
   "metadata": {},
   "outputs": [
    {
     "data": {
      "text/html": [
       "<div>\n",
       "<style scoped>\n",
       "    .dataframe tbody tr th:only-of-type {\n",
       "        vertical-align: middle;\n",
       "    }\n",
       "\n",
       "    .dataframe tbody tr th {\n",
       "        vertical-align: top;\n",
       "    }\n",
       "\n",
       "    .dataframe thead th {\n",
       "        text-align: right;\n",
       "    }\n",
       "</style>\n",
       "<table border=\"1\" class=\"dataframe\">\n",
       "  <thead>\n",
       "    <tr style=\"text-align: right;\">\n",
       "      <th></th>\n",
       "      <th>confusion matrix</th>\n",
       "      <th>cost</th>\n",
       "      <th>model_name</th>\n",
       "      <th>test accuracy</th>\n",
       "      <th>test time [s]</th>\n",
       "      <th>train accuracy</th>\n",
       "      <th>trained_model</th>\n",
       "      <th>training time [s]</th>\n",
       "    </tr>\n",
       "  </thead>\n",
       "  <tbody>\n",
       "    <tr>\n",
       "      <th>0</th>\n",
       "      <td>[[0, 0, 853], [0, 0, 2274], [0, 0, 9969]]</td>\n",
       "      <td>-3127.0</td>\n",
       "      <td>DummyClassifier(strategy='most_frequent')</td>\n",
       "      <td>0.761225</td>\n",
       "      <td>0.001</td>\n",
       "      <td>0.515293</td>\n",
       "      <td>DummyClassifier(strategy='most_frequent')</td>\n",
       "      <td>0.002</td>\n",
       "    </tr>\n",
       "    <tr>\n",
       "      <th>1</th>\n",
       "      <td>[[205, 195, 453], [571, 534, 1169], [2420, 249...</td>\n",
       "      <td>-75738.0</td>\n",
       "      <td>DummyClassifier(strategy='stratified')</td>\n",
       "      <td>0.454261</td>\n",
       "      <td>0.004</td>\n",
       "      <td>0.387524</td>\n",
       "      <td>DummyClassifier(strategy='stratified')</td>\n",
       "      <td>0.001</td>\n",
       "    </tr>\n",
       "    <tr>\n",
       "      <th>2</th>\n",
       "      <td>[[0, 0, 853], [0, 0, 2274], [0, 0, 9969]]</td>\n",
       "      <td>-3127.0</td>\n",
       "      <td>DummyClassifier(strategy='prior')</td>\n",
       "      <td>0.761225</td>\n",
       "      <td>0.001</td>\n",
       "      <td>0.515293</td>\n",
       "      <td>DummyClassifier(strategy='prior')</td>\n",
       "      <td>0.001</td>\n",
       "    </tr>\n",
       "    <tr>\n",
       "      <th>3</th>\n",
       "      <td>[[262, 293, 298], [800, 725, 749], [3328, 3304...</td>\n",
       "      <td>-101740.0</td>\n",
       "      <td>DummyClassifier(strategy='uniform')</td>\n",
       "      <td>0.333537</td>\n",
       "      <td>0.001</td>\n",
       "      <td>0.336096</td>\n",
       "      <td>DummyClassifier(strategy='uniform')</td>\n",
       "      <td>0.001</td>\n",
       "    </tr>\n",
       "  </tbody>\n",
       "</table>\n",
       "</div>"
      ],
      "text/plain": [
       "                                    confusion matrix      cost  \\\n",
       "0          [[0, 0, 853], [0, 0, 2274], [0, 0, 9969]]   -3127.0   \n",
       "1  [[205, 195, 453], [571, 534, 1169], [2420, 249...  -75738.0   \n",
       "2          [[0, 0, 853], [0, 0, 2274], [0, 0, 9969]]   -3127.0   \n",
       "3  [[262, 293, 298], [800, 725, 749], [3328, 3304... -101740.0   \n",
       "\n",
       "                                  model_name  test accuracy  test time [s]  \\\n",
       "0  DummyClassifier(strategy='most_frequent')       0.761225          0.001   \n",
       "1     DummyClassifier(strategy='stratified')       0.454261          0.004   \n",
       "2          DummyClassifier(strategy='prior')       0.761225          0.001   \n",
       "3        DummyClassifier(strategy='uniform')       0.333537          0.001   \n",
       "\n",
       "   train accuracy                              trained_model  \\\n",
       "0        0.515293  DummyClassifier(strategy='most_frequent')   \n",
       "1        0.387524     DummyClassifier(strategy='stratified')   \n",
       "2        0.515293          DummyClassifier(strategy='prior')   \n",
       "3        0.336096        DummyClassifier(strategy='uniform')   \n",
       "\n",
       "   training time [s]  \n",
       "0              0.002  \n",
       "1              0.001  \n",
       "2              0.001  \n",
       "3              0.001  "
      ]
     },
     "execution_count": 114,
     "metadata": {},
     "output_type": "execute_result"
    }
   ],
   "source": [
    "models_summary"
   ]
  },
  {
   "cell_type": "code",
   "execution_count": 115,
   "metadata": {},
   "outputs": [
    {
     "data": {
      "text/html": [
       "<div>\n",
       "<style scoped>\n",
       "    .dataframe tbody tr th:only-of-type {\n",
       "        vertical-align: middle;\n",
       "    }\n",
       "\n",
       "    .dataframe tbody tr th {\n",
       "        vertical-align: top;\n",
       "    }\n",
       "\n",
       "    .dataframe thead th {\n",
       "        text-align: right;\n",
       "    }\n",
       "</style>\n",
       "<table border=\"1\" class=\"dataframe\">\n",
       "  <thead>\n",
       "    <tr style=\"text-align: right;\">\n",
       "      <th></th>\n",
       "      <th>confusion matrix</th>\n",
       "      <th>cost</th>\n",
       "      <th>model_name</th>\n",
       "      <th>test accuracy</th>\n",
       "      <th>test time [s]</th>\n",
       "      <th>train accuracy</th>\n",
       "      <th>trained_model</th>\n",
       "      <th>training time [s]</th>\n",
       "    </tr>\n",
       "  </thead>\n",
       "  <tbody>\n",
       "    <tr>\n",
       "      <th>0</th>\n",
       "      <td>[[853, 0, 0], [2274, 0, 0], [9969, 0, 0]]</td>\n",
       "      <td>-201654.0</td>\n",
       "      <td>DummyClassifier(strategy='most_frequent')</td>\n",
       "      <td>0.065134</td>\n",
       "      <td>0.001</td>\n",
       "      <td>0.333333</td>\n",
       "      <td>DummyClassifier(strategy='most_frequent')</td>\n",
       "      <td>0.002</td>\n",
       "    </tr>\n",
       "    <tr>\n",
       "      <th>1</th>\n",
       "      <td>[[282, 293, 278], [768, 746, 760], [3223, 3373...</td>\n",
       "      <td>-100289.0</td>\n",
       "      <td>DummyClassifier(strategy='stratified')</td>\n",
       "      <td>0.339493</td>\n",
       "      <td>0.004</td>\n",
       "      <td>0.330229</td>\n",
       "      <td>DummyClassifier(strategy='stratified')</td>\n",
       "      <td>0.001</td>\n",
       "    </tr>\n",
       "    <tr>\n",
       "      <th>2</th>\n",
       "      <td>[[853, 0, 0], [2274, 0, 0], [9969, 0, 0]]</td>\n",
       "      <td>-201654.0</td>\n",
       "      <td>DummyClassifier(strategy='prior')</td>\n",
       "      <td>0.065134</td>\n",
       "      <td>0.001</td>\n",
       "      <td>0.333333</td>\n",
       "      <td>DummyClassifier(strategy='prior')</td>\n",
       "      <td>0.001</td>\n",
       "    </tr>\n",
       "    <tr>\n",
       "      <th>3</th>\n",
       "      <td>[[292, 299, 262], [711, 739, 824], [3259, 3337...</td>\n",
       "      <td>-100646.0</td>\n",
       "      <td>DummyClassifier(strategy='uniform')</td>\n",
       "      <td>0.340486</td>\n",
       "      <td>0.001</td>\n",
       "      <td>0.337911</td>\n",
       "      <td>DummyClassifier(strategy='uniform')</td>\n",
       "      <td>0.001</td>\n",
       "    </tr>\n",
       "  </tbody>\n",
       "</table>\n",
       "</div>"
      ],
      "text/plain": [
       "                                    confusion matrix      cost  \\\n",
       "0          [[853, 0, 0], [2274, 0, 0], [9969, 0, 0]] -201654.0   \n",
       "1  [[282, 293, 278], [768, 746, 760], [3223, 3373... -100289.0   \n",
       "2          [[853, 0, 0], [2274, 0, 0], [9969, 0, 0]] -201654.0   \n",
       "3  [[292, 299, 262], [711, 739, 824], [3259, 3337... -100646.0   \n",
       "\n",
       "                                  model_name  test accuracy  test time [s]  \\\n",
       "0  DummyClassifier(strategy='most_frequent')       0.065134          0.001   \n",
       "1     DummyClassifier(strategy='stratified')       0.339493          0.004   \n",
       "2          DummyClassifier(strategy='prior')       0.065134          0.001   \n",
       "3        DummyClassifier(strategy='uniform')       0.340486          0.001   \n",
       "\n",
       "   train accuracy                              trained_model  \\\n",
       "0        0.333333  DummyClassifier(strategy='most_frequent')   \n",
       "1        0.330229     DummyClassifier(strategy='stratified')   \n",
       "2        0.333333          DummyClassifier(strategy='prior')   \n",
       "3        0.337911        DummyClassifier(strategy='uniform')   \n",
       "\n",
       "   training time [s]  \n",
       "0              0.002  \n",
       "1              0.001  \n",
       "2              0.001  \n",
       "3              0.001  "
      ]
     },
     "execution_count": 115,
     "metadata": {},
     "output_type": "execute_result"
    }
   ],
   "source": [
    "models_summary_over"
   ]
  },
  {
   "cell_type": "markdown",
   "metadata": {},
   "source": [
    "--> The Dummy Classifier: Most Frequent has 0.761 Accuracy!"
   ]
  },
  {
   "cell_type": "code",
   "execution_count": 116,
   "metadata": {},
   "outputs": [
    {
     "data": {
      "text/plain": [
       "array([1, 1, 1, ..., 1, 1, 1])"
      ]
     },
     "execution_count": 116,
     "metadata": {},
     "output_type": "execute_result"
    }
   ],
   "source": [
    "models_summary_over['trained_model'][0].predict(X_test_scaled)"
   ]
  },
  {
   "cell_type": "markdown",
   "metadata": {},
   "source": [
    "### Test stock models (Default Parameters)\n",
    "- KNeighborsClassifier\n",
    "- SVC - Linear and RBF\n",
    "- DecisionTreeClassifier\n",
    "- RandomForestClassifier\n",
    "- AdaBoostClassifier\n",
    "- GradientBoostingClassifier\n",
    "\n",
    "\n"
   ]
  },
  {
   "cell_type": "code",
   "execution_count": 117,
   "metadata": {},
   "outputs": [],
   "source": [
    "models_to_try = [KNeighborsClassifier(),\n",
    "                 KNeighborsClassifier(n Sundays. If you can, please let me know what would be the best time for you and if you can't let me know, and I will find a3),\n",
    "                 DecisionTreeClassifier(),\n",
    "                 DecisionTreeClassifier(criterion='gini',max_depth=3),\n",
    "                 RandomForestClassifier(),\n",
    "                 RandomForestClassifier(max_depth=5, n_estimators=10, max_features=1),\n",
    "                 SVC(),\n",
    "                 SVC(kernel=\"linear\", C=0.025),\n",
    "                 AdaBoostClassifier(),\n",
    "                 GradientBoostingClassifier()\n",
    "                ]\n",
    "short_names = ['most_frequent', 'stratified', 'prior', 'uniform'] + ['KNN()',\n",
    "                 'KNN(3)',\n",
    "                 'Tree()',\n",
    "                 'Tree(gini,d=3)',\n",
    "                 'RandomForest()',\n",
    "                 'RF(d=5, n=10, f=1)',\n",
    "                 'SVC()',\n",
    "                 'SVC(\"linear\", C=0.025)',\n",
    "                 'Ada()',\n",
    "                 'Gradient()'\n",
    "                ]"
   ]
  },
  {
   "cell_type": "code",
   "execution_count": 118,
   "metadata": {
    "scrolled": true
   },
   "outputs": [
    {
     "data": {
      "application/vnd.jupyter.widget-view+json": {
       "model_id": "a91d399f7cd74b4088676398e686e2ec",
       "version_major": 2,
       "version_minor": 0
      },
      "text/plain": [
       "HBox(children=(FloatProgress(value=0.0, max=10.0), HTML(value='')))"
      ]
     },
     "metadata": {},
     "output_type": "display_data"
    },
    {
     "name": "stdout",
     "output_type": "stream",
     "text": [
      "Trying Model :KNeighborsClassifier()\n",
      "|  Train Score: 0.848\n",
      "|  Test Score: 0.802\n",
      "Trying Model :KNeighborsClassifier()\n",
      "|  Train Score: 0.896\n",
      "|  Test Score: 0.746\n",
      "Trying Model :KNeighborsClassifier(n_neighbors=3)\n",
      "|  Train Score: 0.875\n",
      "|  Test Score: 0.79\n",
      "Trying Model :KNeighborsClassifier(n_neighbors=3)\n",
      "|  Train Score: 0.937\n",
      "|  Test Score: 0.746\n",
      "Trying Model :DecisionTreeClassifier()\n",
      "|  Train Score: 1.0\n",
      "|  Test Score: 0.764\n",
      "Trying Model :DecisionTreeClassifier()\n",
      "|  Train Score: 1.0\n",
      "|  Test Score: 0.771\n",
      "Trying Model :DecisionTreeClassifier(max_depth=3)\n",
      "|  Train Score: 0.758\n",
      "|  Test Score: 0.776\n",
      "Trying Model :DecisionTreeClassifier(max_depth=3)\n",
      "|  Train Score: 0.745\n",
      "|  Test Score: 0.769\n",
      "Trying Model :RandomForestClassifier()\n",
      "|  Train Score: 1.0\n",
      "|  Test Score: 0.832\n",
      "Trying Model :RandomForestClassifier()\n",
      "|  Train Score: 1.0\n",
      "|  Test Score: 0.83\n",
      "Trying Model :RandomForestClassifier(max_depth=5, max_features=1, n_estimators=10)\n",
      "|  Train Score: 0.778\n",
      "|  Test Score: 0.824\n",
      "Trying Model :RandomForestClassifier(max_depth=5, max_features=1, n_estimators=10)\n",
      "|  Train Score: 0.759\n",
      "|  Test Score: 0.8\n",
      "Trying Model :SVC()\n",
      "|  Train Score: 0.81\n",
      "|  Test Score: 0.839\n",
      "Trying Model :SVC()\n",
      "|  Train Score: 0.803\n",
      "|  Test Score: 0.793\n",
      "Trying Model :SVC(C=0.025, kernel='linear')\n",
      "|  Train Score: 0.782\n",
      "|  Test Score: 0.826\n",
      "Trying Model :SVC(C=0.025, kernel='linear')\n",
      "|  Train Score: 0.774\n",
      "|  Test Score: 0.801\n",
      "Trying Model :AdaBoostClassifier()\n",
      "|  Train Score: 0.782\n",
      "|  Test Score: 0.834\n",
      "Trying Model :AdaBoostClassifier()\n",
      "|  Train Score: 0.764\n",
      "|  Test Score: 0.812\n",
      "Trying Model :GradientBoostingClassifier()\n",
      "|  Train Score: 0.831\n",
      "|  Test Score: 0.836\n",
      "Trying Model :GradientBoostingClassifier()\n",
      "|  Train Score: 0.829\n",
      "|  Test Score: 0.805\n",
      "\n"
     ]
    }
   ],
   "source": [
    "for m in tqdm(models_to_try) :\n",
    "    res = try_model(m, X_train_scaled, y_train, X_test_scaled, y_test)\n",
    "    models_summary = models_summary.append(res, ignore_index=True)\n",
    "    res_over = try_model(m, X_train_over_scaled, y_train_over, X_test_scaled, y_test)\n",
    "    models_summary_over = models_summary_over.append(res_over, ignore_index=True)\n",
    "    \n"
   ]
  },
  {
   "cell_type": "code",
   "execution_count": 119,
   "metadata": {
    "scrolled": true
   },
   "outputs": [
    {
     "data": {
      "text/html": [
       "<div>\n",
       "<style scoped>\n",
       "    .dataframe tbody tr th:only-of-type {\n",
       "        vertical-align: middle;\n",
       "    }\n",
       "\n",
       "    .dataframe tbody tr th {\n",
       "        vertical-align: top;\n",
       "    }\n",
       "\n",
       "    .dataframe thead th {\n",
       "        text-align: right;\n",
       "    }\n",
       "</style>\n",
       "<table border=\"1\" class=\"dataframe\">\n",
       "  <thead>\n",
       "    <tr style=\"text-align: right;\">\n",
       "      <th></th>\n",
       "      <th>confusion matrix</th>\n",
       "      <th>cost</th>\n",
       "      <th>model_name</th>\n",
       "      <th>test accuracy</th>\n",
       "      <th>test time [s]</th>\n",
       "      <th>train accuracy</th>\n",
       "      <th>trained_model</th>\n",
       "      <th>training time [s]</th>\n",
       "    </tr>\n",
       "  </thead>\n",
       "  <tbody>\n",
       "    <tr>\n",
       "      <th>10</th>\n",
       "      <td>[[520, 294, 39], [88, 1224, 962], [10, 716, 92...</td>\n",
       "      <td>-8743.0</td>\n",
       "      <td>SVC()</td>\n",
       "      <td>0.838958</td>\n",
       "      <td>5.153</td>\n",
       "      <td>0.810043</td>\n",
       "      <td>SVC()</td>\n",
       "      <td>10.249</td>\n",
       "    </tr>\n",
       "    <tr>\n",
       "      <th>13</th>\n",
       "      <td>[[576, 253, 24], [127, 1311, 836], [19, 886, 9...</td>\n",
       "      <td>-10480.0</td>\n",
       "      <td>GradientBoostingClassifier()</td>\n",
       "      <td>0.836210</td>\n",
       "      <td>0.043</td>\n",
       "      <td>0.831419</td>\n",
       "      <td>([DecisionTreeRegressor(criterion='friedman_ms...</td>\n",
       "      <td>17.907</td>\n",
       "    </tr>\n",
       "    <tr>\n",
       "      <th>12</th>\n",
       "      <td>[[585, 227, 41], [210, 1050, 1014], [85, 598, ...</td>\n",
       "      <td>-9172.0</td>\n",
       "      <td>AdaBoostClassifier()</td>\n",
       "      <td>0.833919</td>\n",
       "      <td>0.142</td>\n",
       "      <td>0.782027</td>\n",
       "      <td>(DecisionTreeClassifier(max_depth=1, random_st...</td>\n",
       "      <td>1.393</td>\n",
       "    </tr>\n",
       "    <tr>\n",
       "      <th>8</th>\n",
       "      <td>[[548, 276, 29], [112, 1288, 874], [24, 882, 9...</td>\n",
       "      <td>-10591.0</td>\n",
       "      <td>RandomForestClassifier()</td>\n",
       "      <td>0.832239</td>\n",
       "      <td>0.190</td>\n",
       "      <td>1.000000</td>\n",
       "      <td>(DecisionTreeClassifier(max_features='auto', r...</td>\n",
       "      <td>3.771</td>\n",
       "    </tr>\n",
       "    <tr>\n",
       "      <th>11</th>\n",
       "      <td>[[519, 275, 59], [110, 947, 1217], [27, 589, 9...</td>\n",
       "      <td>-8091.0</td>\n",
       "      <td>SVC(C=0.025, kernel='linear')</td>\n",
       "      <td>0.826130</td>\n",
       "      <td>2.347</td>\n",
       "      <td>0.781785</td>\n",
       "      <td>SVC(C=0.025, kernel='linear')</td>\n",
       "      <td>6.609</td>\n",
       "    </tr>\n",
       "    <tr>\n",
       "      <th>9</th>\n",
       "      <td>[[563, 184, 106], [161, 458, 1655], [45, 148, ...</td>\n",
       "      <td>-4486.0</td>\n",
       "      <td>RandomForestClassifier(max_depth=5, max_featur...</td>\n",
       "      <td>0.824450</td>\n",
       "      <td>0.011</td>\n",
       "      <td>0.778392</td>\n",
       "      <td>(DecisionTreeClassifier(max_depth=5, max_featu...</td>\n",
       "      <td>0.083</td>\n",
       "    </tr>\n",
       "    <tr>\n",
       "      <th>4</th>\n",
       "      <td>[[568, 239, 46], [235, 1116, 923], [112, 1040,...</td>\n",
       "      <td>-14083.0</td>\n",
       "      <td>KNeighborsClassifier()</td>\n",
       "      <td>0.801848</td>\n",
       "      <td>4.269</td>\n",
       "      <td>0.848093</td>\n",
       "      <td>KNeighborsClassifier()</td>\n",
       "      <td>0.049</td>\n",
       "    </tr>\n",
       "    <tr>\n",
       "      <th>5</th>\n",
       "      <td>[[571, 234, 48], [293, 1040, 941], [191, 1043,...</td>\n",
       "      <td>-15766.0</td>\n",
       "      <td>KNeighborsClassifier(n_neighbors=3)</td>\n",
       "      <td>0.790012</td>\n",
       "      <td>4.046</td>\n",
       "      <td>0.874509</td>\n",
       "      <td>KNeighborsClassifier(n_neighbors=3)</td>\n",
       "      <td>0.049</td>\n",
       "    </tr>\n",
       "    <tr>\n",
       "      <th>7</th>\n",
       "      <td>[[524, 310, 19], [179, 1410, 685], [50, 1694, ...</td>\n",
       "      <td>-19133.0</td>\n",
       "      <td>DecisionTreeClassifier(max_depth=3)</td>\n",
       "      <td>0.775733</td>\n",
       "      <td>0.001</td>\n",
       "      <td>0.758422</td>\n",
       "      <td>DecisionTreeClassifier(max_depth=3)</td>\n",
       "      <td>0.057</td>\n",
       "    </tr>\n",
       "    <tr>\n",
       "      <th>6</th>\n",
       "      <td>[[540, 252, 61], [253, 1162, 859], [167, 1505,...</td>\n",
       "      <td>-19815.0</td>\n",
       "      <td>DecisionTreeClassifier()</td>\n",
       "      <td>0.763516</td>\n",
       "      <td>0.002</td>\n",
       "      <td>1.000000</td>\n",
       "      <td>DecisionTreeClassifier()</td>\n",
       "      <td>0.261</td>\n",
       "    </tr>\n",
       "    <tr>\n",
       "      <th>0</th>\n",
       "      <td>[[0, 0, 853], [0, 0, 2274], [0, 0, 9969]]</td>\n",
       "      <td>-3127.0</td>\n",
       "      <td>DummyClassifier(strategy='most_frequent')</td>\n",
       "      <td>0.761225</td>\n",
       "      <td>0.001</td>\n",
       "      <td>0.515293</td>\n",
       "      <td>DummyClassifier(strategy='most_frequent')</td>\n",
       "      <td>0.002</td>\n",
       "    </tr>\n",
       "    <tr>\n",
       "      <th>2</th>\n",
       "      <td>[[0, 0, 853], [0, 0, 2274], [0, 0, 9969]]</td>\n",
       "      <td>-3127.0</td>\n",
       "      <td>DummyClassifier(strategy='prior')</td>\n",
       "      <td>0.761225</td>\n",
       "      <td>0.001</td>\n",
       "      <td>0.515293</td>\n",
       "      <td>DummyClassifier(strategy='prior')</td>\n",
       "      <td>0.001</td>\n",
       "    </tr>\n",
       "    <tr>\n",
       "      <th>1</th>\n",
       "      <td>[[205, 195, 453], [571, 534, 1169], [2420, 249...</td>\n",
       "      <td>-75738.0</td>\n",
       "      <td>DummyClassifier(strategy='stratified')</td>\n",
       "      <td>0.454261</td>\n",
       "      <td>0.004</td>\n",
       "      <td>0.387524</td>\n",
       "      <td>DummyClassifier(strategy='stratified')</td>\n",
       "      <td>0.001</td>\n",
       "    </tr>\n",
       "    <tr>\n",
       "      <th>3</th>\n",
       "      <td>[[262, 293, 298], [800, 725, 749], [3328, 3304...</td>\n",
       "      <td>-101740.0</td>\n",
       "      <td>DummyClassifier(strategy='uniform')</td>\n",
       "      <td>0.333537</td>\n",
       "      <td>0.001</td>\n",
       "      <td>0.336096</td>\n",
       "      <td>DummyClassifier(strategy='uniform')</td>\n",
       "      <td>0.001</td>\n",
       "    </tr>\n",
       "  </tbody>\n",
       "</table>\n",
       "</div>"
      ],
      "text/plain": [
       "                                     confusion matrix      cost  \\\n",
       "10  [[520, 294, 39], [88, 1224, 962], [10, 716, 92...   -8743.0   \n",
       "13  [[576, 253, 24], [127, 1311, 836], [19, 886, 9...  -10480.0   \n",
       "12  [[585, 227, 41], [210, 1050, 1014], [85, 598, ...   -9172.0   \n",
       "8   [[548, 276, 29], [112, 1288, 874], [24, 882, 9...  -10591.0   \n",
       "11  [[519, 275, 59], [110, 947, 1217], [27, 589, 9...   -8091.0   \n",
       "9   [[563, 184, 106], [161, 458, 1655], [45, 148, ...   -4486.0   \n",
       "4   [[568, 239, 46], [235, 1116, 923], [112, 1040,...  -14083.0   \n",
       "5   [[571, 234, 48], [293, 1040, 941], [191, 1043,...  -15766.0   \n",
       "7   [[524, 310, 19], [179, 1410, 685], [50, 1694, ...  -19133.0   \n",
       "6   [[540, 252, 61], [253, 1162, 859], [167, 1505,...  -19815.0   \n",
       "0           [[0, 0, 853], [0, 0, 2274], [0, 0, 9969]]   -3127.0   \n",
       "2           [[0, 0, 853], [0, 0, 2274], [0, 0, 9969]]   -3127.0   \n",
       "1   [[205, 195, 453], [571, 534, 1169], [2420, 249...  -75738.0   \n",
       "3   [[262, 293, 298], [800, 725, 749], [3328, 3304... -101740.0   \n",
       "\n",
       "                                           model_name  test accuracy  \\\n",
       "10                                              SVC()       0.838958   \n",
       "13                       GradientBoostingClassifier()       0.836210   \n",
       "12                               AdaBoostClassifier()       0.833919   \n",
       "8                            RandomForestClassifier()       0.832239   \n",
       "11                      SVC(C=0.025, kernel='linear')       0.826130   \n",
       "9   RandomForestClassifier(max_depth=5, max_featur...       0.824450   \n",
       "4                              KNeighborsClassifier()       0.801848   \n",
       "5                 KNeighborsClassifier(n_neighbors=3)       0.790012   \n",
       "7                 DecisionTreeClassifier(max_depth=3)       0.775733   \n",
       "6                            DecisionTreeClassifier()       0.763516   \n",
       "0           DummyClassifier(strategy='most_frequent')       0.761225   \n",
       "2                   DummyClassifier(strategy='prior')       0.761225   \n",
       "1              DummyClassifier(strategy='stratified')       0.454261   \n",
       "3                 DummyClassifier(strategy='uniform')       0.333537   \n",
       "\n",
       "    test time [s]  train accuracy  \\\n",
       "10          5.153        0.810043   \n",
       "13          0.043        0.831419   \n",
       "12          0.142        0.782027   \n",
       "8           0.190        1.000000   \n",
       "11          2.347        0.781785   \n",
       "9           0.011        0.778392   \n",
       "4           4.269        0.848093   \n",
       "5           4.046        0.874509   \n",
       "7           0.001        0.758422   \n",
       "6           0.002        1.000000   \n",
       "0           0.001        0.515293   \n",
       "2           0.001        0.515293   \n",
       "1           0.004        0.387524   \n",
       "3           0.001        0.336096   \n",
       "\n",
       "                                        trained_model  training time [s]  \n",
       "10                                              SVC()             10.249  \n",
       "13  ([DecisionTreeRegressor(criterion='friedman_ms...             17.907  \n",
       "12  (DecisionTreeClassifier(max_depth=1, random_st...              1.393  \n",
       "8   (DecisionTreeClassifier(max_features='auto', r...              3.771  \n",
       "11                      SVC(C=0.025, kernel='linear')              6.609  \n",
       "9   (DecisionTreeClassifier(max_depth=5, max_featu...              0.083  \n",
       "4                              KNeighborsClassifier()              0.049  \n",
       "5                 KNeighborsClassifier(n_neighbors=3)              0.049  \n",
       "7                 DecisionTreeClassifier(max_depth=3)              0.057  \n",
       "6                            DecisionTreeClassifier()              0.261  \n",
       "0           DummyClassifier(strategy='most_frequent')              0.002  \n",
       "2                   DummyClassifier(strategy='prior')              0.001  \n",
       "1              DummyClassifier(strategy='stratified')              0.001  \n",
       "3                 DummyClassifier(strategy='uniform')              0.001  "
      ]
     },
     "execution_count": 119,
     "metadata": {},
     "output_type": "execute_result"
    }
   ],
   "source": [
    "models_summary.sort_values(by=['test accuracy'], ascending=False)"
   ]
  },
  {
   "cell_type": "code",
   "execution_count": 120,
   "metadata": {},
   "outputs": [
    {
     "data": {
      "text/html": [
       "<div>\n",
       "<style scoped>\n",
       "    .dataframe tbody tr th:only-of-type {\n",
       "        vertical-align: middle;\n",
       "    }\n",
       "\n",
       "    .dataframe tbody tr th {\n",
       "        vertical-align: top;\n",
       "    }\n",
       "\n",
       "    .dataframe thead th {\n",
       "        text-align: right;\n",
       "    }\n",
       "</style>\n",
       "<table border=\"1\" class=\"dataframe\">\n",
       "  <thead>\n",
       "    <tr style=\"text-align: right;\">\n",
       "      <th></th>\n",
       "      <th>confusion matrix</th>\n",
       "      <th>cost</th>\n",
       "      <th>model_name</th>\n",
       "      <th>test accuracy</th>\n",
       "      <th>test time [s]</th>\n",
       "      <th>train accuracy</th>\n",
       "      <th>trained_model</th>\n",
       "      <th>training time [s]</th>\n",
       "    </tr>\n",
       "  </thead>\n",
       "  <tbody>\n",
       "    <tr>\n",
       "      <th>8</th>\n",
       "      <td>[[554, 274, 25], [118, 1394, 762], [23, 1026, ...</td>\n",
       "      <td>-11899.0</td>\n",
       "      <td>RandomForestClassifier()</td>\n",
       "      <td>0.829872</td>\n",
       "      <td>0.199</td>\n",
       "      <td>1.000000</td>\n",
       "      <td>(DecisionTreeClassifier(max_features='auto', r...</td>\n",
       "      <td>5.311</td>\n",
       "    </tr>\n",
       "    <tr>\n",
       "      <th>12</th>\n",
       "      <td>[[596, 242, 15], [220, 1409, 645], [70, 1271, ...</td>\n",
       "      <td>-15232.0</td>\n",
       "      <td>AdaBoostClassifier()</td>\n",
       "      <td>0.811927</td>\n",
       "      <td>0.124</td>\n",
       "      <td>0.763835</td>\n",
       "      <td>(DecisionTreeClassifier(max_depth=1, random_st...</td>\n",
       "      <td>1.902</td>\n",
       "    </tr>\n",
       "    <tr>\n",
       "      <th>13</th>\n",
       "      <td>[[580, 268, 5], [140, 1690, 444], [23, 1677, 8...</td>\n",
       "      <td>-18087.0</td>\n",
       "      <td>GradientBoostingClassifier()</td>\n",
       "      <td>0.804750</td>\n",
       "      <td>0.044</td>\n",
       "      <td>0.828771</td>\n",
       "      <td>([DecisionTreeRegressor(criterion='friedman_ms...</td>\n",
       "      <td>26.560</td>\n",
       "    </tr>\n",
       "    <tr>\n",
       "      <th>11</th>\n",
       "      <td>[[530, 307, 16], [119, 1618, 537], [26, 1599, ...</td>\n",
       "      <td>-17489.0</td>\n",
       "      <td>SVC(C=0.025, kernel='linear')</td>\n",
       "      <td>0.801161</td>\n",
       "      <td>4.246</td>\n",
       "      <td>0.774245</td>\n",
       "      <td>SVC(C=0.025, kernel='linear')</td>\n",
       "      <td>16.340</td>\n",
       "    </tr>\n",
       "    <tr>\n",
       "      <th>9</th>\n",
       "      <td>[[517, 318, 18], [139, 1323, 812], [30, 1296, ...</td>\n",
       "      <td>-14847.0</td>\n",
       "      <td>RandomForestClassifier(max_depth=5, max_featur...</td>\n",
       "      <td>0.800473</td>\n",
       "      <td>0.011</td>\n",
       "      <td>0.759320</td>\n",
       "      <td>(DecisionTreeClassifier(max_depth=5, max_featu...</td>\n",
       "      <td>0.115</td>\n",
       "    </tr>\n",
       "    <tr>\n",
       "      <th>10</th>\n",
       "      <td>[[527, 322, 4], [85, 1804, 385], [9, 1910, 8050]]</td>\n",
       "      <td>-20076.0</td>\n",
       "      <td>SVC()</td>\n",
       "      <td>0.792685</td>\n",
       "      <td>8.587</td>\n",
       "      <td>0.803154</td>\n",
       "      <td>SVC()</td>\n",
       "      <td>25.787</td>\n",
       "    </tr>\n",
       "    <tr>\n",
       "      <th>6</th>\n",
       "      <td>[[528, 250, 75], [256, 1044, 974], [146, 1303,...</td>\n",
       "      <td>-17505.0</td>\n",
       "      <td>DecisionTreeClassifier()</td>\n",
       "      <td>0.770617</td>\n",
       "      <td>0.002</td>\n",
       "      <td>1.000000</td>\n",
       "      <td>DecisionTreeClassifier()</td>\n",
       "      <td>0.342</td>\n",
       "    </tr>\n",
       "    <tr>\n",
       "      <th>7</th>\n",
       "      <td>[[526, 320, 7], [176, 1505, 593], [56, 1871, 8...</td>\n",
       "      <td>-20926.0</td>\n",
       "      <td>DecisionTreeClassifier(max_depth=3)</td>\n",
       "      <td>0.769166</td>\n",
       "      <td>0.001</td>\n",
       "      <td>0.744615</td>\n",
       "      <td>DecisionTreeClassifier(max_depth=3)</td>\n",
       "      <td>0.078</td>\n",
       "    </tr>\n",
       "    <tr>\n",
       "      <th>4</th>\n",
       "      <td>[[562, 263, 28], [306, 1369, 599], [192, 1933,...</td>\n",
       "      <td>-24366.0</td>\n",
       "      <td>KNeighborsClassifier()</td>\n",
       "      <td>0.746411</td>\n",
       "      <td>5.834</td>\n",
       "      <td>0.896059</td>\n",
       "      <td>KNeighborsClassifier()</td>\n",
       "      <td>0.087</td>\n",
       "    </tr>\n",
       "    <tr>\n",
       "      <th>5</th>\n",
       "      <td>[[544, 276, 33], [278, 1278, 718], [166, 1850,...</td>\n",
       "      <td>-23125.0</td>\n",
       "      <td>KNeighborsClassifier(n_neighbors=3)</td>\n",
       "      <td>0.746411</td>\n",
       "      <td>5.780</td>\n",
       "      <td>0.936538</td>\n",
       "      <td>KNeighborsClassifier(n_neighbors=3)</td>\n",
       "      <td>0.103</td>\n",
       "    </tr>\n",
       "    <tr>\n",
       "      <th>3</th>\n",
       "      <td>[[292, 299, 262], [711, 739, 824], [3259, 3337...</td>\n",
       "      <td>-100646.0</td>\n",
       "      <td>DummyClassifier(strategy='uniform')</td>\n",
       "      <td>0.340486</td>\n",
       "      <td>0.001</td>\n",
       "      <td>0.337911</td>\n",
       "      <td>DummyClassifier(strategy='uniform')</td>\n",
       "      <td>0.001</td>\n",
       "    </tr>\n",
       "    <tr>\n",
       "      <th>1</th>\n",
       "      <td>[[282, 293, 278], [768, 746, 760], [3223, 3373...</td>\n",
       "      <td>-100289.0</td>\n",
       "      <td>DummyClassifier(strategy='stratified')</td>\n",
       "      <td>0.339493</td>\n",
       "      <td>0.004</td>\n",
       "      <td>0.330229</td>\n",
       "      <td>DummyClassifier(strategy='stratified')</td>\n",
       "      <td>0.001</td>\n",
       "    </tr>\n",
       "    <tr>\n",
       "      <th>0</th>\n",
       "      <td>[[853, 0, 0], [2274, 0, 0], [9969, 0, 0]]</td>\n",
       "      <td>-201654.0</td>\n",
       "      <td>DummyClassifier(strategy='most_frequent')</td>\n",
       "      <td>0.065134</td>\n",
       "      <td>0.001</td>\n",
       "      <td>0.333333</td>\n",
       "      <td>DummyClassifier(strategy='most_frequent')</td>\n",
       "      <td>0.002</td>\n",
       "    </tr>\n",
       "    <tr>\n",
       "      <th>2</th>\n",
       "      <td>[[853, 0, 0], [2274, 0, 0], [9969, 0, 0]]</td>\n",
       "      <td>-201654.0</td>\n",
       "      <td>DummyClassifier(strategy='prior')</td>\n",
       "      <td>0.065134</td>\n",
       "      <td>0.001</td>\n",
       "      <td>0.333333</td>\n",
       "      <td>DummyClassifier(strategy='prior')</td>\n",
       "      <td>0.001</td>\n",
       "    </tr>\n",
       "  </tbody>\n",
       "</table>\n",
       "</div>"
      ],
      "text/plain": [
       "                                     confusion matrix      cost  \\\n",
       "8   [[554, 274, 25], [118, 1394, 762], [23, 1026, ...  -11899.0   \n",
       "12  [[596, 242, 15], [220, 1409, 645], [70, 1271, ...  -15232.0   \n",
       "13  [[580, 268, 5], [140, 1690, 444], [23, 1677, 8...  -18087.0   \n",
       "11  [[530, 307, 16], [119, 1618, 537], [26, 1599, ...  -17489.0   \n",
       "9   [[517, 318, 18], [139, 1323, 812], [30, 1296, ...  -14847.0   \n",
       "10  [[527, 322, 4], [85, 1804, 385], [9, 1910, 8050]]  -20076.0   \n",
       "6   [[528, 250, 75], [256, 1044, 974], [146, 1303,...  -17505.0   \n",
       "7   [[526, 320, 7], [176, 1505, 593], [56, 1871, 8...  -20926.0   \n",
       "4   [[562, 263, 28], [306, 1369, 599], [192, 1933,...  -24366.0   \n",
       "5   [[544, 276, 33], [278, 1278, 718], [166, 1850,...  -23125.0   \n",
       "3   [[292, 299, 262], [711, 739, 824], [3259, 3337... -100646.0   \n",
       "1   [[282, 293, 278], [768, 746, 760], [3223, 3373... -100289.0   \n",
       "0           [[853, 0, 0], [2274, 0, 0], [9969, 0, 0]] -201654.0   \n",
       "2           [[853, 0, 0], [2274, 0, 0], [9969, 0, 0]] -201654.0   \n",
       "\n",
       "                                           model_name  test accuracy  \\\n",
       "8                            RandomForestClassifier()       0.829872   \n",
       "12                               AdaBoostClassifier()       0.811927   \n",
       "13                       GradientBoostingClassifier()       0.804750   \n",
       "11                      SVC(C=0.025, kernel='linear')       0.801161   \n",
       "9   RandomForestClassifier(max_depth=5, max_featur...       0.800473   \n",
       "10                                              SVC()       0.792685   \n",
       "6                            DecisionTreeClassifier()       0.770617   \n",
       "7                 DecisionTreeClassifier(max_depth=3)       0.769166   \n",
       "4                              KNeighborsClassifier()       0.746411   \n",
       "5                 KNeighborsClassifier(n_neighbors=3)       0.746411   \n",
       "3                 DummyClassifier(strategy='uniform')       0.340486   \n",
       "1              DummyClassifier(strategy='stratified')       0.339493   \n",
       "0           DummyClassifier(strategy='most_frequent')       0.065134   \n",
       "2                   DummyClassifier(strategy='prior')       0.065134   \n",
       "\n",
       "    test time [s]  train accuracy  \\\n",
       "8           0.199        1.000000   \n",
       "12          0.124        0.763835   \n",
       "13          0.044        0.828771   \n",
       "11          4.246        0.774245   \n",
       "9           0.011        0.759320   \n",
       "10          8.587        0.803154   \n",
       "6           0.002        1.000000   \n",
       "7           0.001        0.744615   \n",
       "4           5.834        0.896059   \n",
       "5           5.780        0.936538   \n",
       "3           0.001        0.337911   \n",
       "1           0.004        0.330229   \n",
       "0           0.001        0.333333   \n",
       "2           0.001        0.333333   \n",
       "\n",
       "                                        trained_model  training time [s]  \n",
       "8   (DecisionTreeClassifier(max_features='auto', r...              5.311  \n",
       "12  (DecisionTreeClassifier(max_depth=1, random_st...              1.902  \n",
       "13  ([DecisionTreeRegressor(criterion='friedman_ms...             26.560  \n",
       "11                      SVC(C=0.025, kernel='linear')             16.340  \n",
       "9   (DecisionTreeClassifier(max_depth=5, max_featu...              0.115  \n",
       "10                                              SVC()             25.787  \n",
       "6                            DecisionTreeClassifier()              0.342  \n",
       "7                 DecisionTreeClassifier(max_depth=3)              0.078  \n",
       "4                              KNeighborsClassifier()              0.087  \n",
       "5                 KNeighborsClassifier(n_neighbors=3)              0.103  \n",
       "3                 DummyClassifier(strategy='uniform')              0.001  \n",
       "1              DummyClassifier(strategy='stratified')              0.001  \n",
       "0           DummyClassifier(strategy='most_frequent')              0.002  \n",
       "2                   DummyClassifier(strategy='prior')              0.001  "
      ]
     },
     "execution_count": 120,
     "metadata": {},
     "output_type": "execute_result"
    }
   ],
   "source": [
    "models_summary_over.sort_values(by=['test accuracy'], ascending=False)"
   ]
  },
  {
   "cell_type": "code",
   "execution_count": 121,
   "metadata": {},
   "outputs": [
    {
     "data": {
      "text/html": [
       "<div>\n",
       "<style scoped>\n",
       "    .dataframe tbody tr th:only-of-type {\n",
       "        vertical-align: middle;\n",
       "    }\n",
       "\n",
       "    .dataframe tbody tr th {\n",
       "        vertical-align: top;\n",
       "    }\n",
       "\n",
       "    .dataframe thead th {\n",
       "        text-align: right;\n",
       "    }\n",
       "</style>\n",
       "<table border=\"1\" class=\"dataframe\">\n",
       "  <thead>\n",
       "    <tr style=\"text-align: right;\">\n",
       "      <th></th>\n",
       "      <th>confusion matrix</th>\n",
       "      <th>cost</th>\n",
       "      <th>model_name</th>\n",
       "      <th>test accuracy</th>\n",
       "      <th>test time [s]</th>\n",
       "      <th>train accuracy</th>\n",
       "      <th>trained_model</th>\n",
       "      <th>training time [s]</th>\n",
       "    </tr>\n",
       "  </thead>\n",
       "  <tbody>\n",
       "    <tr>\n",
       "      <th>0</th>\n",
       "      <td>[[0, 0, 853], [0, 0, 2274], [0, 0, 9969]]</td>\n",
       "      <td>-3127.0</td>\n",
       "      <td>DummyClassifier(strategy='most_frequent')</td>\n",
       "      <td>0.761225</td>\n",
       "      <td>0.001</td>\n",
       "      <td>0.515293</td>\n",
       "      <td>DummyClassifier(strategy='most_frequent')</td>\n",
       "      <td>0.002</td>\n",
       "    </tr>\n",
       "    <tr>\n",
       "      <th>2</th>\n",
       "      <td>[[0, 0, 853], [0, 0, 2274], [0, 0, 9969]]</td>\n",
       "      <td>-3127.0</td>\n",
       "      <td>DummyClassifier(strategy='prior')</td>\n",
       "      <td>0.761225</td>\n",
       "      <td>0.001</td>\n",
       "      <td>0.515293</td>\n",
       "      <td>DummyClassifier(strategy='prior')</td>\n",
       "      <td>0.001</td>\n",
       "    </tr>\n",
       "    <tr>\n",
       "      <th>9</th>\n",
       "      <td>[[563, 184, 106], [161, 458, 1655], [45, 148, ...</td>\n",
       "      <td>-4486.0</td>\n",
       "      <td>RandomForestClassifier(max_depth=5, max_featur...</td>\n",
       "      <td>0.824450</td>\n",
       "      <td>0.011</td>\n",
       "      <td>0.778392</td>\n",
       "      <td>(DecisionTreeClassifier(max_depth=5, max_featu...</td>\n",
       "      <td>0.083</td>\n",
       "    </tr>\n",
       "    <tr>\n",
       "      <th>11</th>\n",
       "      <td>[[519, 275, 59], [110, 947, 1217], [27, 589, 9...</td>\n",
       "      <td>-8091.0</td>\n",
       "      <td>SVC(C=0.025, kernel='linear')</td>\n",
       "      <td>0.826130</td>\n",
       "      <td>2.347</td>\n",
       "      <td>0.781785</td>\n",
       "      <td>SVC(C=0.025, kernel='linear')</td>\n",
       "      <td>6.609</td>\n",
       "    </tr>\n",
       "    <tr>\n",
       "      <th>10</th>\n",
       "      <td>[[520, 294, 39], [88, 1224, 962], [10, 716, 92...</td>\n",
       "      <td>-8743.0</td>\n",
       "      <td>SVC()</td>\n",
       "      <td>0.838958</td>\n",
       "      <td>5.153</td>\n",
       "      <td>0.810043</td>\n",
       "      <td>SVC()</td>\n",
       "      <td>10.249</td>\n",
       "    </tr>\n",
       "    <tr>\n",
       "      <th>12</th>\n",
       "      <td>[[585, 227, 41], [210, 1050, 1014], [85, 598, ...</td>\n",
       "      <td>-9172.0</td>\n",
       "      <td>AdaBoostClassifier()</td>\n",
       "      <td>0.833919</td>\n",
       "      <td>0.142</td>\n",
       "      <td>0.782027</td>\n",
       "      <td>(DecisionTreeClassifier(max_depth=1, random_st...</td>\n",
       "      <td>1.393</td>\n",
       "    </tr>\n",
       "    <tr>\n",
       "      <th>13</th>\n",
       "      <td>[[576, 253, 24], [127, 1311, 836], [19, 886, 9...</td>\n",
       "      <td>-10480.0</td>\n",
       "      <td>GradientBoostingClassifier()</td>\n",
       "      <td>0.836210</td>\n",
       "      <td>0.043</td>\n",
       "      <td>0.831419</td>\n",
       "      <td>([DecisionTreeRegressor(criterion='friedman_ms...</td>\n",
       "      <td>17.907</td>\n",
       "    </tr>\n",
       "    <tr>\n",
       "      <th>8</th>\n",
       "      <td>[[548, 276, 29], [112, 1288, 874], [24, 882, 9...</td>\n",
       "      <td>-10591.0</td>\n",
       "      <td>RandomForestClassifier()</td>\n",
       "      <td>0.832239</td>\n",
       "      <td>0.190</td>\n",
       "      <td>1.000000</td>\n",
       "      <td>(DecisionTreeClassifier(max_features='auto', r...</td>\n",
       "      <td>3.771</td>\n",
       "    </tr>\n",
       "    <tr>\n",
       "      <th>4</th>\n",
       "      <td>[[568, 239, 46], [235, 1116, 923], [112, 1040,...</td>\n",
       "      <td>-14083.0</td>\n",
       "      <td>KNeighborsClassifier()</td>\n",
       "      <td>0.801848</td>\n",
       "      <td>4.269</td>\n",
       "      <td>0.848093</td>\n",
       "      <td>KNeighborsClassifier()</td>\n",
       "      <td>0.049</td>\n",
       "    </tr>\n",
       "    <tr>\n",
       "      <th>5</th>\n",
       "      <td>[[571, 234, 48], [293, 1040, 941], [191, 1043,...</td>\n",
       "      <td>-15766.0</td>\n",
       "      <td>KNeighborsClassifier(n_neighbors=3)</td>\n",
       "      <td>0.790012</td>\n",
       "      <td>4.046</td>\n",
       "      <td>0.874509</td>\n",
       "      <td>KNeighborsClassifier(n_neighbors=3)</td>\n",
       "      <td>0.049</td>\n",
       "    </tr>\n",
       "    <tr>\n",
       "      <th>7</th>\n",
       "      <td>[[524, 310, 19], [179, 1410, 685], [50, 1694, ...</td>\n",
       "      <td>-19133.0</td>\n",
       "      <td>DecisionTreeClassifier(max_depth=3)</td>\n",
       "      <td>0.775733</td>\n",
       "      <td>0.001</td>\n",
       "      <td>0.758422</td>\n",
       "      <td>DecisionTreeClassifier(max_depth=3)</td>\n",
       "      <td>0.057</td>\n",
       "    </tr>\n",
       "    <tr>\n",
       "      <th>6</th>\n",
       "      <td>[[540, 252, 61], [253, 1162, 859], [167, 1505,...</td>\n",
       "      <td>-19815.0</td>\n",
       "      <td>DecisionTreeClassifier()</td>\n",
       "      <td>0.763516</td>\n",
       "      <td>0.002</td>\n",
       "      <td>1.000000</td>\n",
       "      <td>DecisionTreeClassifier()</td>\n",
       "      <td>0.261</td>\n",
       "    </tr>\n",
       "    <tr>\n",
       "      <th>1</th>\n",
       "      <td>[[205, 195, 453], [571, 534, 1169], [2420, 249...</td>\n",
       "      <td>-75738.0</td>\n",
       "      <td>DummyClassifier(strategy='stratified')</td>\n",
       "      <td>0.454261</td>\n",
       "      <td>0.004</td>\n",
       "      <td>0.387524</td>\n",
       "      <td>DummyClassifier(strategy='stratified')</td>\n",
       "      <td>0.001</td>\n",
       "    </tr>\n",
       "    <tr>\n",
       "      <th>3</th>\n",
       "      <td>[[262, 293, 298], [800, 725, 749], [3328, 3304...</td>\n",
       "      <td>-101740.0</td>\n",
       "      <td>DummyClassifier(strategy='uniform')</td>\n",
       "      <td>0.333537</td>\n",
       "      <td>0.001</td>\n",
       "      <td>0.336096</td>\n",
       "      <td>DummyClassifier(strategy='uniform')</td>\n",
       "      <td>0.001</td>\n",
       "    </tr>\n",
       "  </tbody>\n",
       "</table>\n",
       "</div>"
      ],
      "text/plain": [
       "                                     confusion matrix      cost  \\\n",
       "0           [[0, 0, 853], [0, 0, 2274], [0, 0, 9969]]   -3127.0   \n",
       "2           [[0, 0, 853], [0, 0, 2274], [0, 0, 9969]]   -3127.0   \n",
       "9   [[563, 184, 106], [161, 458, 1655], [45, 148, ...   -4486.0   \n",
       "11  [[519, 275, 59], [110, 947, 1217], [27, 589, 9...   -8091.0   \n",
       "10  [[520, 294, 39], [88, 1224, 962], [10, 716, 92...   -8743.0   \n",
       "12  [[585, 227, 41], [210, 1050, 1014], [85, 598, ...   -9172.0   \n",
       "13  [[576, 253, 24], [127, 1311, 836], [19, 886, 9...  -10480.0   \n",
       "8   [[548, 276, 29], [112, 1288, 874], [24, 882, 9...  -10591.0   \n",
       "4   [[568, 239, 46], [235, 1116, 923], [112, 1040,...  -14083.0   \n",
       "5   [[571, 234, 48], [293, 1040, 941], [191, 1043,...  -15766.0   \n",
       "7   [[524, 310, 19], [179, 1410, 685], [50, 1694, ...  -19133.0   \n",
       "6   [[540, 252, 61], [253, 1162, 859], [167, 1505,...  -19815.0   \n",
       "1   [[205, 195, 453], [571, 534, 1169], [2420, 249...  -75738.0   \n",
       "3   [[262, 293, 298], [800, 725, 749], [3328, 3304... -101740.0   \n",
       "\n",
       "                                           model_name  test accuracy  \\\n",
       "0           DummyClassifier(strategy='most_frequent')       0.761225   \n",
       "2                   DummyClassifier(strategy='prior')       0.761225   \n",
       "9   RandomForestClassifier(max_depth=5, max_featur...       0.824450   \n",
       "11                      SVC(C=0.025, kernel='linear')       0.826130   \n",
       "10                                              SVC()       0.838958   \n",
       "12                               AdaBoostClassifier()       0.833919   \n",
       "13                       GradientBoostingClassifier()       0.836210   \n",
       "8                            RandomForestClassifier()       0.832239   \n",
       "4                              KNeighborsClassifier()       0.801848   \n",
       "5                 KNeighborsClassifier(n_neighbors=3)       0.790012   \n",
       "7                 DecisionTreeClassifier(max_depth=3)       0.775733   \n",
       "6                            DecisionTreeClassifier()       0.763516   \n",
       "1              DummyClassifier(strategy='stratified')       0.454261   \n",
       "3                 DummyClassifier(strategy='uniform')       0.333537   \n",
       "\n",
       "    test time [s]  train accuracy  \\\n",
       "0           0.001        0.515293   \n",
       "2           0.001        0.515293   \n",
       "9           0.011        0.778392   \n",
       "11          2.347        0.781785   \n",
       "10          5.153        0.810043   \n",
       "12          0.142        0.782027   \n",
       "13          0.043        0.831419   \n",
       "8           0.190        1.000000   \n",
       "4           4.269        0.848093   \n",
       "5           4.046        0.874509   \n",
       "7           0.001        0.758422   \n",
       "6           0.002        1.000000   \n",
       "1           0.004        0.387524   \n",
       "3           0.001        0.336096   \n",
       "\n",
       "                                        trained_model  training time [s]  \n",
       "0           DummyClassifier(strategy='most_frequent')              0.002  \n",
       "2                   DummyClassifier(strategy='prior')              0.001  \n",
       "9   (DecisionTreeClassifier(max_depth=5, max_featu...              0.083  \n",
       "11                      SVC(C=0.025, kernel='linear')              6.609  \n",
       "10                                              SVC()             10.249  \n",
       "12  (DecisionTreeClassifier(max_depth=1, random_st...              1.393  \n",
       "13  ([DecisionTreeRegressor(criterion='friedman_ms...             17.907  \n",
       "8   (DecisionTreeClassifier(max_features='auto', r...              3.771  \n",
       "4                              KNeighborsClassifier()              0.049  \n",
       "5                 KNeighborsClassifier(n_neighbors=3)              0.049  \n",
       "7                 DecisionTreeClassifier(max_depth=3)              0.057  \n",
       "6                            DecisionTreeClassifier()              0.261  \n",
       "1              DummyClassifier(strategy='stratified')              0.001  \n",
       "3                 DummyClassifier(strategy='uniform')              0.001  "
      ]
     },
     "execution_count": 121,
     "metadata": {},
     "output_type": "execute_result"
    }
   ],
   "source": [
    "models_summary.sort_values(by=['cost'], ascending=False)"
   ]
  },
  {
   "cell_type": "code",
   "execution_count": 174,
   "metadata": {},
   "outputs": [
    {
     "data": {
      "image/png": "[encoded data removed]",
      "text/plain": [
       "<Figure size 1080x360 with 2 Axes>"
      ]
     },
     "metadata": {},
     "output_type": "display_data"
    }
   ],
   "source": [
    "fig, ax = plt.subplots(1,2,figsize=(15,5),sharey=True)\n",
    "fig.suptitle('Comparison unbalanced data vs oversampled data')\n",
    "\n",
    "_ = ax[0].plot(models_summary['test accuracy'],models_summary['model_name'],'o',linestyle='None',color='blue')\n",
    "_ = ax[0].plot(models_summary_over['test accuracy'],models_summary_over['model_name'],'o',linestyle='None',color='green')\n",
    "_ = ax[0].legend(['Unbalanced', 'Balanced'])\n",
    "labels = short_names\n",
    "_ = ax[0].set_yticklabels(labels, rotation=0)\n",
    "_ = ax[0].set_xlim([0.7,0.85])\n",
    "#_ = ax[0].set_title('Test Accuracy')\n",
    "_ = ax[0].set_xlabel('Test Accuracy')\n",
    "_ = ax[0].set_ylabel('Model')\n",
    "\n",
    "_ = ax[1].plot(models_summary['cost'],models_summary['model_name'],'o',linestyle='None',color='blue')\n",
    "_ = ax[1].plot(models_summary_over['cost'],models_summary_over['model_name'],'o',linestyle='None',color='green')\n",
    "_ = ax[1].legend(['Unbalanced', 'Balanced'])\n",
    "labels = short_names\n",
    "_ = ax[1].set_yticklabels(labels, rotation=0)\n",
    "_ = plt.xticks(rotation=90)\n",
    "_ = ax[1].set_xlim([-30000, 0])\n",
    "#ax[1].set_title('Cost')\n",
    "_ = ax[1].set_xlabel('Cost')\n",
    "#ax[1].set_ylabel('Cost')\n",
    "\n",
    "plt.savefig(\"../figures/Naive_model_comparison.png\") \n"
   ]
  },
  {
   "cell_type": "code",
   "execution_count": null,
   "metadata": {},
   "outputs": [],
   "source": [
    "# print(\"Best Score:\" + str(xgb_cv.best_score_))\n",
    "# print(\"Best Parameters: \" + str(xgb_cv.best_params_))"
   ]
  },
  {
   "cell_type": "code",
   "execution_count": 28,
   "metadata": {},
   "outputs": [],
   "source": [
    "#plot confusion matrix for top accuracy and top costRegExr was created by gskinner.com, and is proudly hosted by Media Temple.\n",
    "\n",
    "Edit the Expression & Text to see matches. Roll over matches or the expression for details. PCRE & JavaScript flavors of RegEx are supported. Validate your expression with Tests mode.\n",
    "\n",
    "The side bar includes a Cheatsheet, full Reference, and Help. You can also Save & Share with the Community, and view patterns you create or favorite in My Patterns.\n",
    "\n",
    "Explore results with the Tools below. Replace & List output custom results. Details lists capture groups. Explain describes your expression in plain English.\n",
    "RegExr was created by gskinner.com, and is proudly hosted by Media Temple.\n",
    "\n",
    "Edit the Expression & Text to see matches. Roll over matches or the expression for details. PCRE & JavaScript flavors of RegEx are supported. Validate your expression with Tests mode.\n",
    "\n",
    "The side bar includes a Cheatsheet, full Reference, and Help. You can also Save & Share with the Community, and view patterns you create or favorite in My Patterns.\n",
    "\n",
    "Explore results with the Tools below. Replace & List output custom results. Details lists capture groups. Explain describes your expression in plain English.\n"
   ]
  },
  {
   "cell_type": "markdown",
   "metadata": {},
   "source": [
    "## Review Model Outcomes — Iterate over additional models as needed.\n",
    "-> pick top 2  and run hyperparameters tuning\n",
    "\n",
    "SVC('rbf')\n",
    "\n",
    "\n",
    "RF()\n"
   ]
  },
  {
   "cell_type": "code",
   "execution_count": null,
   "metadata": {},
   "outputs": [],
   "source": []
  },
  {
   "cell_type": "markdown",
   "metadata": {},
   "source": [
    "### GridSearchCV\n",
    "\n",
    "- SVC - linear / RBF (best accuracy)\n",
    "\n",
    "- Random Forest (lowest cost)\n",
    "\n",
    "\n"
   ]
  },
  {
   "cell_type": "code",
   "execution_count": 212,
   "metadata": {},
   "outputs": [
    {
     "data": {
      "text/plain": [
       "array([1.e-02, 1.e-01, 1.e+00, 1.e+01, 1.e+02, 1.e+03])"
      ]
     },
     "execution_count": 212,
     "metadata": {},
     "output_type": "execute_result"
    }
   ],
   "source": [
    " np.logspace(-2, 3,num=6)"
   ]
  },
  {
   "cell_type": "code",
   "execution_count": 188,
   "metadata": {},
   "outputs": [],
   "source": [
    "# model_grid = [{'C' : np.logspace(-2, 5,num=8),\n",
    "#                'kernel': ['linear','rbf'],\n",
    "#                'gamma' :  np.logspace(-2, 3,num=6)},\n",
    "#               {'n_estimators':np.arange(50,201,50),\n",
    "#                'criterion':['gini', 'entropy'],\n",
    "#                'max_depth':np.arange(1,11,2)}]             \n",
    "# models = [SVC(), RandomForestClassifier()]             "
   ]
  },
  {
   "cell_type": "code",
   "execution_count": 213,
   "metadata": {},
   "outputs": [],
   "source": [
    "# model_grid = [{'C' : np.logspace(-2, 5,num=8),\n",
    "#                'kernel': ['linear','rbf'],\n",
    "#                'gamma' :  np.logspace(-2, 3,num=6)},]             \n",
    "# models = [SVC()] "
   ]
  },
  {
   "cell_type": "code",
   "execution_count": 250,
   "metadata": {},
   "outputs": [],
   "source": [
    "model_grid = [{'C' : np.arange(1,100,100),\n",
    "               'kernel': ['linear','rbf'],\n",
    "               'gamma' : ['scale','auto']},\n",
    "              {'n_estimators':np.arange(50,201,100),\n",
    "               'criterion':['gini', 'entropy'],\n",
    "               'max_depth':np.arange(1,11,10)}]             \n",
    "models = [SVC(), RandomForestClassifier()]    "
   ]
  },
  {
   "cell_type": "code",
   "execution_count": 225,
   "metadata": {},
   "outputs": [],
   "source": [
    "#quick for debugging\n",
    "model_grid = [{'C' : np.arange(80,82,1),\n",
    "               'kernel': ['rbf'],\n",
    "               'gamma' : ['auto']},\n",
    "              {'n_estimators':np.arange(49,51,1),\n",
    "               'criterion':['entropy'],\n",
    "               'max_depth':np.arange(6,8,1)}]             \n",
    "models = [SVC(), RandomForestClassifier()]    "
   ]
  },
  {
   "cell_type": "code",
   "execution_count": 226,
   "metadata": {},
   "outputs": [],
   "source": [
    "hyper_tuning = pd.DataFrame()"
   ]
  },
  {
   "cell_type": "code",
   "execution_count": 234,
   "metadata": {},
   "outputs": [
    {
     "data": {
      "application/vnd.jupyter.widget-view+json": {
       "model_id": "1edf652f83184965815378b3c6cc34e3",
       "version_major": 2,
       "version_minor": 0
      },
      "text/plain": [
       "HBox(children=(FloatProgress(value=1.0, bar_style='info', layout=Layout(width='20px'), max=1.0), HTML(value=''…"
      ]
     },
     "metadata": {},
     "output_type": "display_data"
    },
    {
     "name": "stdout",
     "output_type": "stream",
     "text": [
      "Training model : SVC()\n",
      "Start Time : 2020-10-06 15:23:40.600573\n",
      "49.56 seconds elapsed.\n",
      "|----Best Score:0.7905578983083709\n",
      "|----Best Parameters: {'C': 80, 'gamma': 'auto', 'kernel': 'rbf'}\n",
      "Training model : RandomForestClassifier()\n",
      "Start Time : 2020-10-06 15:24:40.958171\n",
      "15.218 seconds elapsed.\n",
      "|----Best Score:0.7918666085017692\n",
      "|----Best Parameters: {'criterion': 'entropy', 'max_depth': 7, 'n_estimators': 50}\n",
      "\n"
     ]
    }
   ],
   "source": [
    "for model, param_grid in tqdm(zip(models, model_grid)):\n",
    "    print(\"Training model : \" + str(model))\n",
    "    print(\"Start Time : \"+ str(datetime.now()))\n",
    "    grid_cv = GridSearchCV(model,param_grid, cv=3, refit=True)\n",
    "    start = timer()\n",
    "    grid_cv.fit(X_train_scaled,y_train)\n",
    "    end = timer()\n",
    "    test_score = grid_cv.score(X_test_scaled, y_test)\n",
    "    y_pred = grid_cv.predict(X_test_scaled)\n",
    "    cm = confusion_matrix(y_test, y_pred)\n",
    "    cost = my_cost_function(y_test, y_pred)\n",
    "    print(str(round(end - start,3)) + ' seconds elapsed.')\n",
    "    print(\"|----Best Score:\" + str(grid_cv.best_score_))\n",
    "    print(\"|----Best Parameters: \" + str(grid_cv.best_params_))\n",
    "    hyper_tuning = hyper_tuning.append({'Training model': model,\n",
    "                        'grid_cv object': grid_cv,\n",
    "                        'Time':round(end - start,3),\n",
    "                        'Test Score':test_score,\n",
    "                        'Cost':cost,\n",
    "                        'Best Score':grid_cv.best_score_,\n",
    "                        'Confusion Matrix':cm,\n",
    "                        'Best Parameters': grid_cv.best_params_}, ignore_index=True)"
   ]
  },
  {
   "cell_type": "markdown",
   "metadata": {},
   "source": [
    "```\n",
    "Training model : SVC()\n",
    "1075.062 seconds elapsed.\n",
    "|----Best Score:0.7905578983083709\n",
    "|----Best Parameters: {'C': 81, 'gamma': 'auto', 'kernel': 'rbf'}\n",
    "Training model : RandomForestClassifier()\n",
    "350.659 seconds elapsed.\n",
    "|----Best Score:0.7915273132664437\n",
    "|----Best Parameters: {'criterion': 'entropy', 'max_depth': 7, 'n_estimators': 50}\n",
    "```"
   ]
  },
  {
   "cell_type": "code",
   "execution_count": 235,
   "metadata": {},
   "outputs": [
    {
     "data": {
      "text/html": [
       "<div>\n",
       "<style scoped>\n",
       "    .dataframe tbody tr th:only-of-type {\n",
       "        vertical-align: middle;\n",
       "    }\n",
       "\n",
       "    .dataframe tbody tr th {\n",
       "        vertical-align: top;\n",
       "    }\n",
       "\n",
       "    .dataframe thead th {\n",
       "        text-align: right;\n",
       "    }\n",
       "</style>\n",
       "<table border=\"1\" class=\"dataframe\">\n",
       "  <thead>\n",
       "    <tr style=\"text-align: right;\">\n",
       "      <th></th>\n",
       "      <th>Best Parameters</th>\n",
       "      <th>Best Score</th>\n",
       "      <th>Confusion Matrix</th>\n",
       "      <th>Cost</th>\n",
       "      <th>Test Score</th>\n",
       "      <th>Time</th>\n",
       "      <th>Training model</th>\n",
       "      <th>grid_cv object</th>\n",
       "    </tr>\n",
       "  </thead>\n",
       "  <tbody>\n",
       "    <tr>\n",
       "      <th>0</th>\n",
       "      <td>{'C': 80, 'gamma': 'auto', 'kernel': 'rbf'}</td>\n",
       "      <td>0.790558</td>\n",
       "      <td>[[530, 275, 48], [100, 1178, 996], [12, 647, 9...</td>\n",
       "      <td>-8129.0</td>\n",
       "      <td>0.841326</td>\n",
       "      <td>51.418</td>\n",
       "      <td>SVC()</td>\n",
       "      <td>GridSearchCV(cv=3, estimator=SVC(),\\n         ...</td>\n",
       "    </tr>\n",
       "    <tr>\n",
       "      <th>1</th>\n",
       "      <td>{'criterion': 'entropy', 'max_depth': 7, 'n_es...</td>\n",
       "      <td>0.792012</td>\n",
       "      <td>[[539, 283, 31], [108, 1062, 1104], [16, 640, ...</td>\n",
       "      <td>-8246.0</td>\n",
       "      <td>0.833384</td>\n",
       "      <td>16.292</td>\n",
       "      <td>RandomForestClassifier()</td>\n",
       "      <td>GridSearchCV(cv=3, estimator=RandomForestClass...</td>\n",
       "    </tr>\n",
       "    <tr>\n",
       "      <th>2</th>\n",
       "      <td>{'C': 80, 'gamma': 'auto', 'kernel': 'rbf'}</td>\n",
       "      <td>0.790558</td>\n",
       "      <td>[[530, 275, 48], [100, 1178, 996], [12, 647, 9...</td>\n",
       "      <td>-8129.0</td>\n",
       "      <td>0.841326</td>\n",
       "      <td>49.560</td>\n",
       "      <td>SVC()</td>\n",
       "      <td>GridSearchCV(cv=3, estimator=SVC(),\\n         ...</td>\n",
       "    </tr>\n",
       "    <tr>\n",
       "      <th>3</th>\n",
       "      <td>{'criterion': 'entropy', 'max_depth': 7, 'n_es...</td>\n",
       "      <td>0.791867</td>\n",
       "      <td>[[547, 280, 26], [104, 1126, 1044], [18, 755, ...</td>\n",
       "      <td>-9364.0</td>\n",
       "      <td>0.829948</td>\n",
       "      <td>15.218</td>\n",
       "      <td>RandomForestClassifier()</td>\n",
       "      <td>GridSearchCV(cv=3, estimator=RandomForestClass...</td>\n",
       "    </tr>\n",
       "  </tbody>\n",
       "</table>\n",
       "</div>"
      ],
      "text/plain": [
       "                                     Best Parameters  Best Score  \\\n",
       "0        {'C': 80, 'gamma': 'auto', 'kernel': 'rbf'}    0.790558   \n",
       "1  {'criterion': 'entropy', 'max_depth': 7, 'n_es...    0.792012   \n",
       "2        {'C': 80, 'gamma': 'auto', 'kernel': 'rbf'}    0.790558   \n",
       "3  {'criterion': 'entropy', 'max_depth': 7, 'n_es...    0.791867   \n",
       "\n",
       "                                    Confusion Matrix    Cost  Test Score  \\\n",
       "0  [[530, 275, 48], [100, 1178, 996], [12, 647, 9... -8129.0    0.841326   \n",
       "1  [[539, 283, 31], [108, 1062, 1104], [16, 640, ... -8246.0    0.833384   \n",
       "2  [[530, 275, 48], [100, 1178, 996], [12, 647, 9... -8129.0    0.841326   \n",
       "3  [[547, 280, 26], [104, 1126, 1044], [18, 755, ... -9364.0    0.829948   \n",
       "\n",
       "     Time            Training model  \\\n",
       "0  51.418                     SVC()   \n",
       "1  16.292  RandomForestClassifier()   \n",
       "2  49.560                     SVC()   \n",
       "3  15.218  RandomForestClassifier()   \n",
       "\n",
       "                                      grid_cv object  \n",
       "0  GridSearchCV(cv=3, estimator=SVC(),\\n         ...  \n",
       "1  GridSearchCV(cv=3, estimator=RandomForestClass...  \n",
       "2  GridSearchCV(cv=3, estimator=SVC(),\\n         ...  \n",
       "3  GridSearchCV(cv=3, estimator=RandomForestClass...  "
      ]
     },
     "execution_count": 235,
     "metadata": {},
     "output_type": "execute_result"
    }
   ],
   "source": [
    "hyper_tuning"
   ]
  },
  {
   "cell_type": "code",
   "execution_count": 259,
   "metadata": {
    "scrolled": true
   },
   "outputs": [
    {
     "data": {
      "image/png": "[encoded data removed]",
      "text/plain": [
       "<Figure size 432x288 with 1 Axes>"
      ]
     },
     "metadata": {},
     "output_type": "display_data"
    }
   ],
   "source": [
    "#SVC\n",
    "select_cv = hyper_tuning['grid_cv object'][0]\n",
    "\n",
    "plot_grid_search(select_cv.cv_results_, model_grid[0]['C'], model_grid[0]['gamma'], 'C', 'gamma')"
   ]
  },
  {
   "cell_type": "markdown",
   "metadata": {},
   "source": [
    "# Model Choice"
   ]
  },
  {
   "cell_type": "code",
   "execution_count": 263,
   "metadata": {},
   "outputs": [
    {
     "name": "stdout",
     "output_type": "stream",
     "text": [
      "0.8413255956017105\n",
      "[[ 530  275   48]\n",
      " [ 100 1178  996]\n",
      " [  12  647 9310]]\n",
      "-8129\n"
     ]
    },
    {
     "data": {
      "text/plain": [
       "Text(0.5, 1.0, 'Support Vector Classifier (RBF kernel)')"
      ]
     },
     "execution_count": 263,
     "metadata": {},
     "output_type": "execute_result"
    },
    {
     "data": {
      "image/png": "[encoded data removed]",
      "text/plain": [
       "<Figure size 432x432 with 2 Axes>"
      ]
     },
     "metadata": {},
     "output_type": "display_data"
    }
   ],
   "source": [
    "#SVC\n",
    "select_cv = hyper_tuning['grid_cv object'][0]\n",
    "\n",
    "test_score = select_cv.score(X_test_scaled, y_test)\n",
    "\n",
    "y_pred = select_cv.predict(X_test_scaled)\n",
    "cm = confusion_matrix(y_test, y_pred)\n",
    "cost = my_cost_function(y_test, y_pred)\n",
    "\n",
    "print(test_score)\n",
    "print(cm)\n",
    "print(cost)\n",
    "_ = plot_multiclass_confusion_matrix(y_test, y_pred,[1,2,3])\n",
    "plt.title('Support Vector Classifier (RBF kernel)')"
   ]
  },
  {
   "cell_type": "code",
   "execution_count": 262,
   "metadata": {},
   "outputs": [
    {
     "name": "stdout",
     "output_type": "stream",
     "text": [
      "0.8333842394624312\n",
      "[[ 539  283   31]\n",
      " [ 108 1062 1104]\n",
      " [  16  640 9313]]\n",
      "-8246\n"
     ]
    },
    {
     "data": {
      "text/plain": [
       "Text(0.5, 1.0, 'Random Forest')"
      ]
     },
     "execution_count": 262,
     "metadata": {},
     "output_type": "execute_result"
    },
    {
     "data": {
      "image/png": "[encoded data removed]",
      "text/plain": [
       "<Figure size 432x432 with 2 Axes>"
      ]
     },
     "metadata": {},
     "output_type": "display_data"
    }
   ],
   "source": [
    "# Random Forest\n",
    "select_cv = hyper_tuning['grid_cv object'][1]\n",
    "\n",
    "test_score = select_cv.score(X_test_scaled, y_test)\n",
    "\n",
    "y_pred = select_cv.predict(X_test_scaled)\n",
    "cm = confusion_matrix(y_test, y_pred)\n",
    "cost = my_cost_function(y_test, y_pred)\n",
    "\n",
    "print(test_score)\n",
    "print(cm)\n",
    "print(cost)\n",
    "_ = plot_multiclass_confusion_matrix(y_test, y_pred,[1,2,3])\n",
    "plt.title('Random Forest')"
   ]
  },
  {
   "cell_type": "markdown",
   "metadata": {},
   "source": [
    "The Support Vector Classifier has both a higher accuracy and a lower cost due to misclassification"
   ]
  },
  {
   "cell_type": "code",
   "execution_count": 355,
   "metadata": {
    "scrolled": true
   },
   "outputs": [
    {
     "name": "stdout",
     "output_type": "stream",
     "text": [
      "Unit number : 76\n"
     ]
    },
    {
     "data": {
      "image/png": "[encoded data removed]",
      "text/plain": [
       "<Figure size 432x288 with 1 Axes>"
      ]
     },
     "metadata": {},
     "output_type": "display_data"
    }
   ],
   "source": [
    "import random\n",
    "#let's see it in action\n",
    "# pick one engine trace from the test dataset\n",
    "test_df = pd.read_csv('../data/test_op_regime2_FD001.csv')\n",
    "random_unit = random.choice(test_df['unit_number'].unique())\n",
    "print('Unit number : '+ str(random_unit)) #76 is a good example\n",
    "test_df = test_df[test_df['unit_number']==random_unit]\n",
    "\n",
    "#setting an arbitary boundary at 50 and 100 cycles for the binning\\\n",
    "first_boundary = -100\n",
    "second_boundary = -50\n",
    "test_df['status'] = pd.cut(test_df['RUL'],[-np.inf,first_boundary,second_boundary,0],labels=[3,2,1])\n",
    "\n",
    "_ = sns.scatterplot('RUL','s3',data = test_df, hue='status')\n",
    "_ = plt.title('True Class')\n",
    "plt.savefig('../figures/SIMULATION_true_class.png')"
   ]
  },
  {
   "cell_type": "code",
   "execution_count": 356,
   "metadata": {},
   "outputs": [],
   "source": [
    "cols_to_drop = ['dataset','unit_number', \n",
    "        'op_setting_1', 'op_setting_2', 'op_setting_3',\n",
    "        's1', 's5', 's6', 's10', 's16', 's18', 's19',\n",
    "        'op_regime','RUL']\n",
    "predictor_col = ['status']\n",
    "\n",
    "X_test = test_df.drop(cols_to_drop + predictor_col, axis=1).to_numpy()\n",
    "X_test_scaled=scaler.transform(X_test)\n",
    "y_pred = select_cv.predict(X_test_scaled)\n",
    "test_df['pred_status']=y_pred"
   ]
  },
  {
   "cell_type": "code",
   "execution_count": 357,
   "metadata": {},
   "outputs": [
    {
     "data": {
      "image/png": "[encoded data removed]",
      "text/plain": [
       "<Figure size 432x288 with 1 Axes>"
      ]
     },
     "metadata": {},
     "output_type": "display_data"
    }
   ],
   "source": [
    "_ = sns.scatterplot('RUL','s3',data = test_df, hue='status')\n",
    "_ = plt.title('Predicted Class')\n",
    "plt.savefig('../figures/SIMULATION_predicted_class.png')"
   ]
  },
  {
   "cell_type": "code",
   "execution_count": 358,
   "metadata": {},
   "outputs": [],
   "source": [
    "test_df['correct'] = test_df['pred_status'] == test_df['status']"
   ]
  },
  {
   "cell_type": "code",
   "execution_count": 359,
   "metadata": {},
   "outputs": [
    {
     "data": {
      "image/png": "[encoded data removed]",
      "text/plain": [
       "<Figure size 432x288 with 1 Axes>"
      ]
     },
     "metadata": {},
     "output_type": "display_data"
    }
   ],
   "source": [
    "_ = sns.scatterplot('RUL','s3',data = test_df, hue='correct')\n",
    "_ = plt.title('Prediction Mistakes')\n",
    "plt.savefig('../figures/SIMULATION_classification_error.png')"
   ]
  },
  {
   "cell_type": "markdown",
   "metadata": {},
   "source": [
    "## Extra: Bayesian Optiomization\n"
   ]
  },
  {
   "cell_type": "code",
   "execution_count": 283,
   "metadata": {
    "scrolled": true
   },
   "outputs": [],
   "source": [
    "# from skopt import BayesSearchCV\n",
    "# from skopt.space import Real, Categorical, Integer"
   ]
  },
  {
   "cell_type": "code",
   "execution_count": 200,
   "metadata": {
    "collapsed": true
   },
   "outputs": [
    {
     "name": "stdout",
     "output_type": "stream",
     "text": [
      "Start Time : 2020-10-06 10:55:12.099320\n",
      "Fitting 5 folds for each of 1 candidates, totalling 5 fits\n"
     ]
    },
    {
     "name": "stderr",
     "output_type": "stream",
     "text": [
      "[Parallel(n_jobs=-1)]: Using backend LokyBackend with 4 concurrent workers.\n",
      "[Parallel(n_jobs=-1)]: Done   5 out of   5 | elapsed:   35.9s finished\n",
      "[Parallel(n_jobs=-1)]: Using backend LokyBackend with 4 concurrent workers.\n"
     ]
    },
    {
     "name": "stdout",
     "output_type": "stream",
     "text": [
      "Fitting 5 folds for each of 1 candidates, totalling 5 fits\n",
      "Fitting 5 folds for each of 1 candidates, totalling 5 fits\n"
     ]
    },
    {
     "name": "stderr",
     "output_type": "stream",
     "text": [
      "[Parallel(n_jobs=-1)]: Done   5 out of   5 | elapsed: 39.9min finished\n",
      "[Parallel(n_jobs=-1)]: Using backend LokyBackend with 4 concurrent workers.\n",
      "[Parallel(n_jobs=-1)]: Done   5 out of   5 | elapsed:   22.9s finished\n",
      "[Parallel(n_jobs=-1)]: Using backend LokyBackend with 4 concurrent workers.\n"
     ]
    },
    {
     "name": "stdout",
     "output_type": "stream",
     "text": [
      "Fitting 5 folds for each of 1 candidates, totalling 5 fits\n"
     ]
    },
    {
     "name": "stderr",
     "output_type": "stream",
     "text": [
      "[Parallel(n_jobs=-1)]: Done   5 out of   5 | elapsed:   52.1s finished\n",
      "[Parallel(n_jobs=-1)]: Using backend LokyBackend with 4 concurrent workers.\n"
     ]
    },
    {
     "name": "stdout",
     "output_type": "stream",
     "text": [
      "Fitting 5 folds for each of 1 candidates, totalling 5 fits\n"
     ]
    },
    {
     "name": "stderr",
     "output_type": "stream",
     "text": [
      "[Parallel(n_jobs=-1)]: Done   5 out of   5 | elapsed:   51.2s finished\n",
      "[Parallel(n_jobs=-1)]: Using backend LokyBackend with 4 concurrent workers.\n"
     ]
    },
    {
     "name": "stdout",
     "output_type": "stream",
     "text": [
      "Fitting 5 folds for each of 1 candidates, totalling 5 fits\n"
     ]
    },
    {
     "name": "stderr",
     "output_type": "stream",
     "text": [
      "[Parallel(n_jobs=-1)]: Done   5 out of   5 | elapsed:   26.8s finished\n",
      "[Parallel(n_jobs=-1)]: Using backend LokyBackend with 4 concurrent workers.\n"
     ]
    },
    {
     "name": "stdout",
     "output_type": "stream",
     "text": [
      "Fitting 5 folds for each of 1 candidates, totalling 5 fits\n"
     ]
    },
    {
     "name": "stderr",
     "output_type": "stream",
     "text": [
      "[Parallel(n_jobs=-1)]: Done   5 out of   5 | elapsed: 176.5min finished\n"
     ]
    },
    {
     "name": "stdout",
     "output_type": "stream",
     "text": [
      "Fitting 5 folds for each of 1 candidates, totalling 5 fits\n"
     ]
    },
    {
     "name": "stderr",
     "output_type": "stream",
     "text": [
      "[Parallel(n_jobs=-1)]: Using backend LokyBackend with 4 concurrent workers.\n",
      "[Parallel(n_jobs=-1)]: Done   5 out of   5 | elapsed:   35.6s finished\n",
      "[Parallel(n_jobs=-1)]: Using backend LokyBackend with 4 concurrent workers.\n"
     ]
    },
    {
     "name": "stdout",
     "output_type": "stream",
     "text": [
      "Fitting 5 folds for each of 1 candidates, totalling 5 fits\n"
     ]
    },
    {
     "name": "stderr",
     "output_type": "stream",
     "text": [
      "[Parallel(n_jobs=-1)]: Done   5 out of   5 | elapsed:  1.9min finished\n"
     ]
    },
    {
     "name": "stdout",
     "output_type": "stream",
     "text": [
      "Fitting 5 folds for each of 1 candidates, totalling 5 fits\n"
     ]
    },
    {
     "name": "stderr",
     "output_type": "stream",
     "text": [
      "[Parallel(n_jobs=-1)]: Using backend LokyBackend with 4 concurrent workers.\n",
      "[Parallel(n_jobs=-1)]: Done   5 out of   5 | elapsed:  1.6min finished\n"
     ]
    },
    {
     "name": "stdout",
     "output_type": "stream",
     "text": [
      "End Time : 2020-10-06 14:39:05.518821\n"
     ]
    },
    {
     "ename": "NameError",
     "evalue": "name 'opt' is not defined",
     "output_type": "error",
     "traceback": [
      "\u001b[0;31m---------------------------------------------------------------------------\u001b[0m",
      "\u001b[0;31mNameError\u001b[0m                                 Traceback (most recent call last)",
      "\u001b[0;32m<ipython-input-200-f768bec996c7>\u001b[0m in \u001b[0;36m<module>\u001b[0;34m\u001b[0m\n\u001b[1;32m     22\u001b[0m \u001b[0;34m\u001b[0m\u001b[0m\n\u001b[1;32m     23\u001b[0m \u001b[0;31m# model can be saved, used for predictions or scoring\u001b[0m\u001b[0;34m\u001b[0m\u001b[0;34m\u001b[0m\u001b[0;34m\u001b[0m\u001b[0m\n\u001b[0;32m---> 24\u001b[0;31m \u001b[0mprint\u001b[0m\u001b[0;34m(\u001b[0m\u001b[0mopt\u001b[0m\u001b[0;34m.\u001b[0m\u001b[0mscore\u001b[0m\u001b[0;34m(\u001b[0m\u001b[0mX_test\u001b[0m\u001b[0;34m,\u001b[0m \u001b[0my_test\u001b[0m\u001b[0;34m)\u001b[0m\u001b[0;34m)\u001b[0m\u001b[0;34m\u001b[0m\u001b[0;34m\u001b[0m\u001b[0m\n\u001b[0m\u001b[1;32m     25\u001b[0m \u001b[0;31m# report the best result\u001b[0m\u001b[0;34m\u001b[0m\u001b[0;34m\u001b[0m\u001b[0;34m\u001b[0m\u001b[0m\n\u001b[1;32m     26\u001b[0m \u001b[0mprint\u001b[0m\u001b[0;34m(\u001b[0m\u001b[0msearch\u001b[0m\u001b[0;34m.\u001b[0m\u001b[0mbest_score_\u001b[0m\u001b[0;34m)\u001b[0m\u001b[0;34m\u001b[0m\u001b[0;34m\u001b[0m\u001b[0m\n",
      "\u001b[0;31mNameError\u001b[0m: name 'opt' is not defined"
     ]
    }
   ],
   "source": [
    "# # define search space\n",
    "# params = {'C': Real(1e-6, 1e+6, prior='log-uniform'),\n",
    "#           'gamma': Real(1e-6, 1e+1, prior='log-uniform'),\n",
    "#           'degree': Integer(1,8),\n",
    "#           'kernel': Categorical(['linear', 'rbf']),\n",
    "#          }\n",
    "\n",
    "# # define the search\n",
    "\n",
    "# search = BayesSearchCV(estimator=SVC(),\n",
    "#                        search_spaces=params,\n",
    "#                        n_jobs=-1,\n",
    "#                        n_iter=10,\n",
    "#                        random_state=0,\n",
    "#                        cv=5,\n",
    "#                        verbose=1)\n",
    "\n",
    "# # perform the bayesian optimization\n",
    "# print(\"Start Time : \"+ str(datetime.now()))\n",
    "# search.fit(X_train_scaled, y_train)\n",
    "# print(\"End Time : \"+ str(datetime.now()))\n",
    "\n",
    "# # model can be saved, used for predictions or scoring\n",
    "# print(opt.score(X_test, y_test))\n",
    "# # report the best result\n",
    "# print(search.best_score_)\n",
    "# print(search.best_params_)"
   ]
  },
  {
   "cell_type": "code",
   "execution_count": 202,
   "metadata": {},
   "outputs": [
    {
     "name": "stdout",
     "output_type": "stream",
     "text": [
      "0.8411728772144166\n",
      "0.7903155445688527\n",
      "OrderedDict([('C', 11428.693628355693), ('degree', 8), ('gamma', 0.13609648966949792), ('kernel', 'poly')])\n"
     ]
    }
   ],
   "source": [
    "# # model can be saved, used for predictions or scoring\n",
    "# print(search.score(X_test_scaled, y_test))\n",
    "# # report the best result\n",
    "# print(search.best_score_)\n",
    "# print(search.best_params_)"
   ]
  },
  {
   "cell_type": "markdown",
   "metadata": {},
   "source": [
    "```\n",
    "Test Score = 0.8411728772144166\n",
    "CV Score = 0.7903155445688527\n",
    "OrderedDict([('C', 11428.693628355693), ('degree', 8), ('gamma', 0.13609648966949792), ('kernel', 'poly')])\n",
    "```"
   ]
  }
 ],
 "metadata": {
  "kernelspec": {
   "display_name": "Python [conda env:Jet_clean]",
   "language": "python",
   "name": "conda-env-Jet_clean-py"
  },
  "language_info": {
   "codemirror_mode": {
    "name": "ipython",
    "version": 3
   },
   "file_extension": ".py",
   "mimetype": "text/x-python",
   "name": "python",
   "nbconvert_exporter": "python",
   "pygments_lexer": "ipython3",
   "version": "3.8.4"
  }
 },
 "nbformat": 4,
 "nbformat_minor": 4
}
