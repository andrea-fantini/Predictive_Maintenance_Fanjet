{
 "cells": [
  {
   "cell_type": "markdown",
   "metadata": {},
   "source": [
    "<h1 id=\\\"tocheading\\\">Table of Contents</h1>\n",
    "    <div id=\\\"toc\\\"></div>"
   ]
  },
  {
   "cell_type": "code",
   "execution_count": 3,
   "metadata": {},
   "outputs": [
    {
     "data": {
      "application/javascript": [
       "$.getScript('https://kmahelona.github.io/ipython_notebook_goodies/ipython_notebook_toc.js')\n",
       "\n",
       "// needed to generate the Table of contents \n",
       "// taken from github.com/kmahelona/ipython_notebook_goodies\n"
      ],
      "text/plain": [
       "<IPython.core.display.Javascript object>"
      ]
     },
     "metadata": {},
     "output_type": "display_data"
    }
   ],
   "source": [
    "%%javascript\n",
    "$.getScript('https://kmahelona.github.io/ipython_notebook_goodies/ipython_notebook_toc.js')\n",
    "\n",
    "// needed to generate the Table of contents \n",
    "// taken from github.com/kmahelona/ipython_notebook_goodies"
   ]
  },
  {
   "cell_type": "markdown",
   "metadata": {},
   "source": [
    "# Modeling\n",
    "\n",
    "## Fit Models with Training Data Set\n",
    "\n",
    "## Review Model Outcomes — Iterate over additional models as needed.\n",
    "\n",
    "## Identify the Final Model"
   ]
  },
  {
   "cell_type": "code",
   "execution_count": 5,
   "metadata": {},
   "outputs": [],
   "source": [
    "import pandas as pd\n",
    "import numpy as np\n"
   ]
  },
  {
   "cell_type": "code",
   "execution_count": null,
   "metadata": {},
   "outputs": [],
   "source": [
    "#initialize dict to collect model performance data\n",
    "models_comparison = {'Model': [],\n",
    "        'Explained Variance': [],\n",
    "        'Mean Absolute Error': [],\n",
    "        'Features Dropped': []\n",
    "        }"
   ]
  },
  {
   "cell_type": "code",
   "execution_count": 4,
   "metadata": {},
   "outputs": [
    {
     "ename": "NameError",
     "evalue": "name 'pd' is not defined",
     "output_type": "error",
     "traceback": [
      "\u001b[0;31m---------------------------------------------------------------------------\u001b[0m",
      "\u001b[0;31mNameError\u001b[0m                                 Traceback (most recent call last)",
      "\u001b[0;32m<ipython-input-4-708f6e2453a2>\u001b[0m in \u001b[0;36m<module>\u001b[0;34m\u001b[0m\n\u001b[1;32m      1\u001b[0m \u001b[0;31m#Using it again:\u001b[0m\u001b[0;34m\u001b[0m\u001b[0;34m\u001b[0m\u001b[0;34m\u001b[0m\u001b[0m\n\u001b[0;32m----> 2\u001b[0;31m \u001b[0mX_train_scaled\u001b[0m \u001b[0;34m=\u001b[0m \u001b[0mpd\u001b[0m\u001b[0;34m.\u001b[0m\u001b[0mread_csv\u001b[0m\u001b[0;34m(\u001b[0m\u001b[0;34m\"data/X_train_scaled.csv\"\u001b[0m\u001b[0;34m)\u001b[0m\u001b[0;34m\u001b[0m\u001b[0;34m\u001b[0m\u001b[0m\n\u001b[0m\u001b[1;32m      3\u001b[0m \u001b[0mX_test_scaled\u001b[0m \u001b[0;34m=\u001b[0m \u001b[0mpd\u001b[0m\u001b[0;34m.\u001b[0m\u001b[0mread_csv\u001b[0m\u001b[0;34m(\u001b[0m\u001b[0;34m\"data/X_test_scaled.csv\"\u001b[0m\u001b[0;34m)\u001b[0m\u001b[0;34m\u001b[0m\u001b[0;34m\u001b[0m\u001b[0m\n\u001b[1;32m      4\u001b[0m \u001b[0;34m\u001b[0m\u001b[0m\n\u001b[1;32m      5\u001b[0m \u001b[0mfeature_list\u001b[0m \u001b[0;34m=\u001b[0m \u001b[0mpd\u001b[0m\u001b[0;34m.\u001b[0m\u001b[0mread_csv\u001b[0m\u001b[0;34m(\u001b[0m\u001b[0;34m\"data/feature_list.csv\"\u001b[0m\u001b[0;34m)\u001b[0m\u001b[0;34m\u001b[0m\u001b[0;34m\u001b[0m\u001b[0m\n",
      "\u001b[0;31mNameError\u001b[0m: name 'pd' is not defined"
     ]
    }
   ],
   "source": [
    "#Using it again:\n",
    "X_train_scaled = pd.read_csv(\"data/X_train_scaled.csv\")\n",
    "X_test_scaled = pd.read_csv(\"data/X_test_scaled.csv\")\n",
    "\n",
    "feature_list = pd.read_csv(\"data/feature_list.csv\")\n",
    "feature_list = pd.Index(list(feature_list[\"0\"]))\n",
    "\n",
    "# add_cols = list(feature_list.difference(X_test_scaled.columns))\n",
    "\n",
    "# drop_cols = list(X_test_scaled.columns.difference(feature_list))\n",
    "\n",
    "# for col in add_cols:\n",
    "#     X_test_scaled[col] = np.nan\n",
    "\n",
    "# for col in drop_cols:\n",
    "#     X_test_scaled = X_test_scaled.drop(col, axis = 1)\n",
    "\n",
    "# # reorder columns\n",
    "# X_test_scaled = X_test_scaled[feature_list]\n",
    "\n",
    "# types = pd.read_csv(\"data/data_types.csv\")\n",
    "# for i in range(len(types)):\n",
    "#     X_test_scaled[types.iloc[i,0]] = X_test_scaled[types.iloc[i,0]].astype(types.iloc[i,1])\n",
    "# #Make Predictions\n",
    "\n",
    "# scaler = joblib.load(\"scaler.pkl\")\n",
    "# #predictions = regressor.predict(X_test)\n",
    "# #Save Prediction Results\n",
    "\n",
    "# res = pd.DataFrame(predictions)\n",
    "# res.index = X_test.index # its important for comparison\n",
    "# res.columns = [\"prediction\"]\n",
    "# res.to_csv(\"prediction_results.csv\")"
   ]
  },
  {
   "cell_type": "code",
   "execution_count": null,
   "metadata": {},
   "outputs": [],
   "source": []
  }
 ],
 "metadata": {
  "kernelspec": {
   "display_name": "Python [conda env:Jet_clean]",
   "language": "python",
   "name": "conda-env-Jet_clean-py"
  },
  "language_info": {
   "codemirror_mode": {
    "name": "ipython",
    "version": 3
   },
   "file_extension": ".py",
   "mimetype": "text/x-python",
   "name": "python",
   "nbconvert_exporter": "python",
   "pygments_lexer": "ipython3",
   "version": "3.8.4"
  }
 },
 "nbformat": 4,
 "nbformat_minor": 4
}
