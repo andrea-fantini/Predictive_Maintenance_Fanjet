{
 "cells": [
  {
   "cell_type": "markdown",
   "metadata": {},
   "source": [
    "<h1 id=\"tocheading\">Table of Contents</h1>\n",
    "<div id=\"toc\"></div>\n"
   ]
  },
  {
   "cell_type": "code",
   "execution_count": 71,
   "metadata": {},
   "outputs": [
    {
     "data": {
      "application/javascript": [
       "$.getScript('https://kmahelona.github.io/ipython_notebook_goodies/ipython_notebook_toc.js')\n",
       "\n",
       "// needed to generate the Table of contents \n",
       "// taken from github.com/kmahelona/ipython_notebook_goodies\n"
      ],
      "text/plain": [
       "<IPython.core.display.Javascript object>"
      ]
     },
     "metadata": {},
     "output_type": "display_data"
    }
   ],
   "source": [
    "%%javascript\n",
    "$.getScript('https://kmahelona.github.io/ipython_notebook_goodies/ipython_notebook_toc.js')\n",
    "\n",
    "// needed to generate the Table of contents \n",
    "// taken from github.com/kmahelona/ipython_notebook_goodies"
   ]
  },
  {
   "cell_type": "code",
   "execution_count": 72,
   "metadata": {},
   "outputs": [
    {
     "name": "stdout",
     "output_type": "stream",
     "text": [
      "The autoreload extension is already loaded. To reload it, use:\n",
      "  %reload_ext autoreload\n"
     ]
    }
   ],
   "source": [
    "#To work with Atom and Jupyter at the same time\n",
    "\n",
    "%load_ext autoreload\n",
    "%autoreload 2"
   ]
  },
  {
   "cell_type": "markdown",
   "metadata": {},
   "source": [
    "# Data Warngling\n",
    "## Data Collection\n",
    "See Importing data.ipynb\n",
    "\n",
    "## Data Organization\n",
    "All data files are stored in the Data folder. The raw file has been downloaded in the data/raw/ folder.\n",
    "\n",
    "## Data Definition\n"
   ]
  },
  {
   "cell_type": "code",
   "execution_count": 73,
   "metadata": {},
   "outputs": [],
   "source": [
    "import pandas as pd\n",
    "import os\n",
    "import seaborn as sns\n",
    "import matplotlib.pyplot as plt\n",
    "from matplotlib import gridspec #gridspec allows me to make a subplot with different aspect ratio\n",
    "from IPython.display import Image #used to display images saved to disk"
   ]
  },
  {
   "cell_type": "code",
   "execution_count": 3,
   "metadata": {},
   "outputs": [
    {
     "name": "stdout",
     "output_type": "stream",
     "text": [
      "/home/andrea/Dropbox/PyProjects/Predictive_Maintenance_Fanjet\n"
     ]
    }
   ],
   "source": [
    "os.chdir('..')\n",
    "print(os.getcwd())"
   ]
  },
  {
   "cell_type": "code",
   "execution_count": 48,
   "metadata": {},
   "outputs": [],
   "source": [
    "filename = 'train.csv' \n",
    "#try also 'data/test.csv' and 'data/RUL.csv' for similar results\n",
    "file_path = 'data/'+filename\n",
    "df = pd.read_csv(file_path)"
   ]
  },
  {
   "cell_type": "code",
   "execution_count": 49,
   "metadata": {},
   "outputs": [
    {
     "data": {
      "text/html": [
       "<div>\n",
       "<style scoped>\n",
       "    .dataframe tbody tr th:only-of-type {\n",
       "        vertical-align: middle;\n",
       "    }\n",
       "\n",
       "    .dataframe tbody tr th {\n",
       "        vertical-align: top;\n",
       "    }\n",
       "\n",
       "    .dataframe thead th {\n",
       "        text-align: right;\n",
       "    }\n",
       "</style>\n",
       "<table border=\"1\" class=\"dataframe\">\n",
       "  <thead>\n",
       "    <tr style=\"text-align: right;\">\n",
       "      <th></th>\n",
       "      <th>unit_number</th>\n",
       "      <th>cycle_time</th>\n",
       "      <th>op_setting_1</th>\n",
       "      <th>op_setting_2</th>\n",
       "      <th>op_setting_3</th>\n",
       "      <th>s1</th>\n",
       "      <th>s2</th>\n",
       "      <th>s3</th>\n",
       "      <th>s4</th>\n",
       "      <th>s5</th>\n",
       "      <th>...</th>\n",
       "      <th>s13</th>\n",
       "      <th>s14</th>\n",
       "      <th>s15</th>\n",
       "      <th>s16</th>\n",
       "      <th>s17</th>\n",
       "      <th>s18</th>\n",
       "      <th>s19</th>\n",
       "      <th>s20</th>\n",
       "      <th>s21</th>\n",
       "      <th>dataset</th>\n",
       "    </tr>\n",
       "  </thead>\n",
       "  <tbody>\n",
       "    <tr>\n",
       "      <th>0</th>\n",
       "      <td>1</td>\n",
       "      <td>1</td>\n",
       "      <td>-0.0005</td>\n",
       "      <td>0.0004</td>\n",
       "      <td>100.0</td>\n",
       "      <td>518.67</td>\n",
       "      <td>642.36</td>\n",
       "      <td>1583.23</td>\n",
       "      <td>1396.84</td>\n",
       "      <td>14.62</td>\n",
       "      <td>...</td>\n",
       "      <td>2388.01</td>\n",
       "      <td>8145.32</td>\n",
       "      <td>8.4246</td>\n",
       "      <td>0.03</td>\n",
       "      <td>391</td>\n",
       "      <td>2388</td>\n",
       "      <td>100.0</td>\n",
       "      <td>39.11</td>\n",
       "      <td>23.3537</td>\n",
       "      <td>FD003</td>\n",
       "    </tr>\n",
       "    <tr>\n",
       "      <th>1</th>\n",
       "      <td>1</td>\n",
       "      <td>2</td>\n",
       "      <td>0.0008</td>\n",
       "      <td>-0.0003</td>\n",
       "      <td>100.0</td>\n",
       "      <td>518.67</td>\n",
       "      <td>642.50</td>\n",
       "      <td>1584.69</td>\n",
       "      <td>1396.89</td>\n",
       "      <td>14.62</td>\n",
       "      <td>...</td>\n",
       "      <td>2388.03</td>\n",
       "      <td>8152.85</td>\n",
       "      <td>8.4403</td>\n",
       "      <td>0.03</td>\n",
       "      <td>392</td>\n",
       "      <td>2388</td>\n",
       "      <td>100.0</td>\n",
       "      <td>38.99</td>\n",
       "      <td>23.4491</td>\n",
       "      <td>FD003</td>\n",
       "    </tr>\n",
       "    <tr>\n",
       "      <th>2</th>\n",
       "      <td>1</td>\n",
       "      <td>3</td>\n",
       "      <td>-0.0014</td>\n",
       "      <td>-0.0002</td>\n",
       "      <td>100.0</td>\n",
       "      <td>518.67</td>\n",
       "      <td>642.18</td>\n",
       "      <td>1582.35</td>\n",
       "      <td>1405.61</td>\n",
       "      <td>14.62</td>\n",
       "      <td>...</td>\n",
       "      <td>2388.00</td>\n",
       "      <td>8150.17</td>\n",
       "      <td>8.3901</td>\n",
       "      <td>0.03</td>\n",
       "      <td>391</td>\n",
       "      <td>2388</td>\n",
       "      <td>100.0</td>\n",
       "      <td>38.85</td>\n",
       "      <td>23.3669</td>\n",
       "      <td>FD003</td>\n",
       "    </tr>\n",
       "    <tr>\n",
       "      <th>3</th>\n",
       "      <td>1</td>\n",
       "      <td>4</td>\n",
       "      <td>-0.0020</td>\n",
       "      <td>0.0001</td>\n",
       "      <td>100.0</td>\n",
       "      <td>518.67</td>\n",
       "      <td>642.92</td>\n",
       "      <td>1585.61</td>\n",
       "      <td>1392.27</td>\n",
       "      <td>14.62</td>\n",
       "      <td>...</td>\n",
       "      <td>2388.08</td>\n",
       "      <td>8146.56</td>\n",
       "      <td>8.3878</td>\n",
       "      <td>0.03</td>\n",
       "      <td>392</td>\n",
       "      <td>2388</td>\n",
       "      <td>100.0</td>\n",
       "      <td>38.96</td>\n",
       "      <td>23.2951</td>\n",
       "      <td>FD003</td>\n",
       "    </tr>\n",
       "    <tr>\n",
       "      <th>4</th>\n",
       "      <td>1</td>\n",
       "      <td>5</td>\n",
       "      <td>0.0016</td>\n",
       "      <td>0.0000</td>\n",
       "      <td>100.0</td>\n",
       "      <td>518.67</td>\n",
       "      <td>641.68</td>\n",
       "      <td>1588.63</td>\n",
       "      <td>1397.65</td>\n",
       "      <td>14.62</td>\n",
       "      <td>...</td>\n",
       "      <td>2388.03</td>\n",
       "      <td>8147.80</td>\n",
       "      <td>8.3869</td>\n",
       "      <td>0.03</td>\n",
       "      <td>392</td>\n",
       "      <td>2388</td>\n",
       "      <td>100.0</td>\n",
       "      <td>39.14</td>\n",
       "      <td>23.4583</td>\n",
       "      <td>FD003</td>\n",
       "    </tr>\n",
       "  </tbody>\n",
       "</table>\n",
       "<p>5 rows × 27 columns</p>\n",
       "</div>"
      ],
      "text/plain": [
       "   unit_number  cycle_time  op_setting_1  op_setting_2  op_setting_3      s1  \\\n",
       "0            1           1       -0.0005        0.0004         100.0  518.67   \n",
       "1            1           2        0.0008       -0.0003         100.0  518.67   \n",
       "2            1           3       -0.0014       -0.0002         100.0  518.67   \n",
       "3            1           4       -0.0020        0.0001         100.0  518.67   \n",
       "4            1           5        0.0016        0.0000         100.0  518.67   \n",
       "\n",
       "       s2       s3       s4     s5   ...         s13      s14     s15   s16  \\\n",
       "0  642.36  1583.23  1396.84  14.62   ...     2388.01  8145.32  8.4246  0.03   \n",
       "1  642.50  1584.69  1396.89  14.62   ...     2388.03  8152.85  8.4403  0.03   \n",
       "2  642.18  1582.35  1405.61  14.62   ...     2388.00  8150.17  8.3901  0.03   \n",
       "3  642.92  1585.61  1392.27  14.62   ...     2388.08  8146.56  8.3878  0.03   \n",
       "4  641.68  1588.63  1397.65  14.62   ...     2388.03  8147.80  8.3869  0.03   \n",
       "\n",
       "   s17   s18    s19    s20      s21  dataset  \n",
       "0  391  2388  100.0  39.11  23.3537    FD003  \n",
       "1  392  2388  100.0  38.99  23.4491    FD003  \n",
       "2  391  2388  100.0  38.85  23.3669    FD003  \n",
       "3  392  2388  100.0  38.96  23.2951    FD003  \n",
       "4  392  2388  100.0  39.14  23.4583    FD003  \n",
       "\n",
       "[5 rows x 27 columns]"
      ]
     },
     "execution_count": 49,
     "metadata": {},
     "output_type": "execute_result"
    }
   ],
   "source": [
    "df.head(5)"
   ]
  },
  {
   "cell_type": "code",
   "execution_count": 50,
   "metadata": {},
   "outputs": [
    {
     "data": {
      "text/plain": [
       "unit_number       int64\n",
       "cycle_time        int64\n",
       "op_setting_1    float64\n",
       "op_setting_2    float64\n",
       "op_setting_3    float64\n",
       "s1              float64\n",
       "s2              float64\n",
       "s3              float64\n",
       "s4              float64\n",
       "s5              float64\n",
       "s6              float64\n",
       "s7              float64\n",
       "s8              float64\n",
       "s9              float64\n",
       "s10             float64\n",
       "s11             float64\n",
       "s12             float64\n",
       "s13             float64\n",
       "s14             float64\n",
       "s15             float64\n",
       "s16             float64\n",
       "s17               int64\n",
       "s18               int64\n",
       "s19             float64\n",
       "s20             float64\n",
       "s21             float64\n",
       "dataset          object\n",
       "dtype: object"
      ]
     },
     "execution_count": 50,
     "metadata": {},
     "output_type": "execute_result"
    }
   ],
   "source": [
    "df.dtypes"
   ]
  },
  {
   "cell_type": "code",
   "execution_count": 51,
   "metadata": {},
   "outputs": [
    {
     "name": "stdout",
     "output_type": "stream",
     "text": [
      "<class 'pandas.core.frame.DataFrame'>\n",
      "RangeIndex: 160359 entries, 0 to 160358\n",
      "Data columns (total 27 columns):\n",
      "unit_number     160359 non-null int64\n",
      "cycle_time      160359 non-null int64\n",
      "op_setting_1    160359 non-null float64\n",
      "op_setting_2    160359 non-null float64\n",
      "op_setting_3    160359 non-null float64\n",
      "s1              160359 non-null float64\n",
      "s2              160359 non-null float64\n",
      "s3              160359 non-null float64\n",
      "s4              160359 non-null float64\n",
      "s5              160359 non-null float64\n",
      "s6              160359 non-null float64\n",
      "s7              160359 non-null float64\n",
      "s8              160359 non-null float64\n",
      "s9              160359 non-null float64\n",
      "s10             160359 non-null float64\n",
      "s11             160359 non-null float64\n",
      "s12             160359 non-null float64\n",
      "s13             160359 non-null float64\n",
      "s14             160359 non-null float64\n",
      "s15             160359 non-null float64\n",
      "s16             160359 non-null float64\n",
      "s17             160359 non-null int64\n",
      "s18             160359 non-null int64\n",
      "s19             160359 non-null float64\n",
      "s20             160359 non-null float64\n",
      "s21             160359 non-null float64\n",
      "dataset         160359 non-null object\n",
      "dtypes: float64(22), int64(4), object(1)\n",
      "memory usage: 33.0+ MB\n"
     ]
    }
   ],
   "source": [
    "df.info()"
   ]
  },
  {
   "cell_type": "markdown",
   "metadata": {},
   "source": [
    "Dataset is very clean. There aren't any null values."
   ]
  },
  {
   "cell_type": "code",
   "execution_count": 52,
   "metadata": {},
   "outputs": [
    {
     "data": {
      "text/plain": [
       "unit_number       260\n",
       "cycle_time        543\n",
       "op_setting_1      670\n",
       "op_setting_2      111\n",
       "op_setting_3        2\n",
       "s1                  6\n",
       "s2               1799\n",
       "s3              15377\n",
       "s4              20582\n",
       "s5                  6\n",
       "s6                 56\n",
       "s7               6311\n",
       "s8               1163\n",
       "s9              34161\n",
       "s10                21\n",
       "s11               771\n",
       "s12              5982\n",
       "s13               567\n",
       "s14             20090\n",
       "s15             13124\n",
       "s16                 2\n",
       "s17                58\n",
       "s18                 6\n",
       "s19                 2\n",
       "s20               676\n",
       "s21             26659\n",
       "dataset             4\n",
       "dtype: int64"
      ]
     },
     "execution_count": 52,
     "metadata": {},
     "output_type": "execute_result"
    }
   ],
   "source": [
    "df.nunique()"
   ]
  },
  {
   "cell_type": "code",
   "execution_count": 53,
   "metadata": {},
   "outputs": [
    {
     "data": {
      "text/plain": [
       "100.0    143218\n",
       "60.0      17141\n",
       "Name: op_setting_3, dtype: int64"
      ]
     },
     "execution_count": 53,
     "metadata": {},
     "output_type": "execute_result"
    }
   ],
   "source": [
    "df['op_setting_3'].value_counts()"
   ]
  },
  {
   "cell_type": "markdown",
   "metadata": {},
   "source": [
    "It looks like op_setting_3 is either 60 or 100 (probably a ercentage value)."
   ]
  },
  {
   "cell_type": "code",
   "execution_count": 54,
   "metadata": {},
   "outputs": [
    {
     "data": {
      "text/plain": [
       "FD004    61249\n",
       "FD002    53759\n",
       "FD003    24720\n",
       "FD001    20631\n",
       "Name: dataset, dtype: int64"
      ]
     },
     "execution_count": 54,
     "metadata": {},
     "output_type": "execute_result"
    }
   ],
   "source": [
    "df['dataset'].value_counts()"
   ]
  },
  {
   "cell_type": "markdown",
   "metadata": {},
   "source": [
    "As we know dataset takes 4 values FD001, FD002, FD003, FD004"
   ]
  },
  {
   "cell_type": "code",
   "execution_count": 55,
   "metadata": {},
   "outputs": [
    {
     "data": {
      "text/plain": [
       "100.00    143218\n",
       "84.93      17141\n",
       "Name: s19, dtype: int64"
      ]
     },
     "execution_count": 55,
     "metadata": {},
     "output_type": "execute_result"
    }
   ],
   "source": [
    "df['s19'].value_counts()"
   ]
  },
  {
   "cell_type": "markdown",
   "metadata": {},
   "source": [
    "Other columns with few unique vlaues are not very meaningful"
   ]
  },
  {
   "cell_type": "code",
   "execution_count": 56,
   "metadata": {},
   "outputs": [
    {
     "data": {
      "text/html": [
       "<div>\n",
       "<style scoped>\n",
       "    .dataframe tbody tr th:only-of-type {\n",
       "        vertical-align: middle;\n",
       "    }\n",
       "\n",
       "    .dataframe tbody tr th {\n",
       "        vertical-align: top;\n",
       "    }\n",
       "\n",
       "    .dataframe thead th {\n",
       "        text-align: right;\n",
       "    }\n",
       "</style>\n",
       "<table border=\"1\" class=\"dataframe\">\n",
       "  <thead>\n",
       "    <tr style=\"text-align: right;\">\n",
       "      <th></th>\n",
       "      <th>min</th>\n",
       "      <th>max</th>\n",
       "    </tr>\n",
       "  </thead>\n",
       "  <tbody>\n",
       "    <tr>\n",
       "      <th>unit_number</th>\n",
       "      <td>1</td>\n",
       "      <td>260</td>\n",
       "    </tr>\n",
       "    <tr>\n",
       "      <th>cycle_time</th>\n",
       "      <td>1</td>\n",
       "      <td>543</td>\n",
       "    </tr>\n",
       "    <tr>\n",
       "      <th>op_setting_1</th>\n",
       "      <td>-0.0087</td>\n",
       "      <td>42.008</td>\n",
       "    </tr>\n",
       "    <tr>\n",
       "      <th>op_setting_2</th>\n",
       "      <td>-0.0006</td>\n",
       "      <td>0.842</td>\n",
       "    </tr>\n",
       "    <tr>\n",
       "      <th>op_setting_3</th>\n",
       "      <td>60</td>\n",
       "      <td>100</td>\n",
       "    </tr>\n",
       "    <tr>\n",
       "      <th>s1</th>\n",
       "      <td>445</td>\n",
       "      <td>518.67</td>\n",
       "    </tr>\n",
       "    <tr>\n",
       "      <th>s2</th>\n",
       "      <td>535.48</td>\n",
       "      <td>645.11</td>\n",
       "    </tr>\n",
       "    <tr>\n",
       "      <th>s3</th>\n",
       "      <td>1242.67</td>\n",
       "      <td>1616.91</td>\n",
       "    </tr>\n",
       "    <tr>\n",
       "      <th>s4</th>\n",
       "      <td>1023.77</td>\n",
       "      <td>1441.49</td>\n",
       "    </tr>\n",
       "    <tr>\n",
       "      <th>s5</th>\n",
       "      <td>3.91</td>\n",
       "      <td>14.62</td>\n",
       "    </tr>\n",
       "    <tr>\n",
       "      <th>s6</th>\n",
       "      <td>5.67</td>\n",
       "      <td>21.61</td>\n",
       "    </tr>\n",
       "    <tr>\n",
       "      <th>s7</th>\n",
       "      <td>136.17</td>\n",
       "      <td>570.81</td>\n",
       "    </tr>\n",
       "    <tr>\n",
       "      <th>s8</th>\n",
       "      <td>1914.72</td>\n",
       "      <td>2388.64</td>\n",
       "    </tr>\n",
       "    <tr>\n",
       "      <th>s9</th>\n",
       "      <td>7984.51</td>\n",
       "      <td>9244.59</td>\n",
       "    </tr>\n",
       "    <tr>\n",
       "      <th>s10</th>\n",
       "      <td>0.93</td>\n",
       "      <td>1.32</td>\n",
       "    </tr>\n",
       "    <tr>\n",
       "      <th>s11</th>\n",
       "      <td>36.04</td>\n",
       "      <td>48.53</td>\n",
       "    </tr>\n",
       "    <tr>\n",
       "      <th>s12</th>\n",
       "      <td>128.31</td>\n",
       "      <td>537.49</td>\n",
       "    </tr>\n",
       "    <tr>\n",
       "      <th>s13</th>\n",
       "      <td>2027.57</td>\n",
       "      <td>2390.49</td>\n",
       "    </tr>\n",
       "    <tr>\n",
       "      <th>s14</th>\n",
       "      <td>7845.78</td>\n",
       "      <td>8293.72</td>\n",
       "    </tr>\n",
       "    <tr>\n",
       "      <th>s15</th>\n",
       "      <td>8.1563</td>\n",
       "      <td>11.0669</td>\n",
       "    </tr>\n",
       "    <tr>\n",
       "      <th>s16</th>\n",
       "      <td>0.02</td>\n",
       "      <td>0.03</td>\n",
       "    </tr>\n",
       "    <tr>\n",
       "      <th>s17</th>\n",
       "      <td>302</td>\n",
       "      <td>400</td>\n",
       "    </tr>\n",
       "    <tr>\n",
       "      <th>s18</th>\n",
       "      <td>1915</td>\n",
       "      <td>2388</td>\n",
       "    </tr>\n",
       "    <tr>\n",
       "      <th>s19</th>\n",
       "      <td>84.93</td>\n",
       "      <td>100</td>\n",
       "    </tr>\n",
       "    <tr>\n",
       "      <th>s20</th>\n",
       "      <td>10.16</td>\n",
       "      <td>39.89</td>\n",
       "    </tr>\n",
       "    <tr>\n",
       "      <th>s21</th>\n",
       "      <td>6.0105</td>\n",
       "      <td>23.9505</td>\n",
       "    </tr>\n",
       "    <tr>\n",
       "      <th>dataset</th>\n",
       "      <td>FD001</td>\n",
       "      <td>FD004</td>\n",
       "    </tr>\n",
       "  </tbody>\n",
       "</table>\n",
       "</div>"
      ],
      "text/plain": [
       "                  min      max\n",
       "unit_number         1      260\n",
       "cycle_time          1      543\n",
       "op_setting_1  -0.0087   42.008\n",
       "op_setting_2  -0.0006    0.842\n",
       "op_setting_3       60      100\n",
       "s1                445   518.67\n",
       "s2             535.48   645.11\n",
       "s3            1242.67  1616.91\n",
       "s4            1023.77  1441.49\n",
       "s5               3.91    14.62\n",
       "s6               5.67    21.61\n",
       "s7             136.17   570.81\n",
       "s8            1914.72  2388.64\n",
       "s9            7984.51  9244.59\n",
       "s10              0.93     1.32\n",
       "s11             36.04    48.53\n",
       "s12            128.31   537.49\n",
       "s13           2027.57  2390.49\n",
       "s14           7845.78  8293.72\n",
       "s15            8.1563  11.0669\n",
       "s16              0.02     0.03\n",
       "s17               302      400\n",
       "s18              1915     2388\n",
       "s19             84.93      100\n",
       "s20             10.16    39.89\n",
       "s21            6.0105  23.9505\n",
       "dataset         FD001    FD004"
      ]
     },
     "execution_count": 56,
     "metadata": {},
     "output_type": "execute_result"
    }
   ],
   "source": [
    "df.aggregate(['min', 'max']).T"
   ]
  },
  {
   "cell_type": "code",
   "execution_count": 57,
   "metadata": {},
   "outputs": [
    {
     "data": {
      "text/html": [
       "<div>\n",
       "<style scoped>\n",
       "    .dataframe tbody tr th:only-of-type {\n",
       "        vertical-align: middle;\n",
       "    }\n",
       "\n",
       "    .dataframe tbody tr th {\n",
       "        vertical-align: top;\n",
       "    }\n",
       "\n",
       "    .dataframe thead th {\n",
       "        text-align: right;\n",
       "    }\n",
       "</style>\n",
       "<table border=\"1\" class=\"dataframe\">\n",
       "  <thead>\n",
       "    <tr style=\"text-align: right;\">\n",
       "      <th></th>\n",
       "      <th>unit_number</th>\n",
       "      <th>cycle_time</th>\n",
       "      <th>op_setting_1</th>\n",
       "      <th>op_setting_2</th>\n",
       "      <th>op_setting_3</th>\n",
       "      <th>s1</th>\n",
       "      <th>s2</th>\n",
       "      <th>s3</th>\n",
       "      <th>s4</th>\n",
       "      <th>s5</th>\n",
       "      <th>...</th>\n",
       "      <th>s12</th>\n",
       "      <th>s13</th>\n",
       "      <th>s14</th>\n",
       "      <th>s15</th>\n",
       "      <th>s16</th>\n",
       "      <th>s17</th>\n",
       "      <th>s18</th>\n",
       "      <th>s19</th>\n",
       "      <th>s20</th>\n",
       "      <th>s21</th>\n",
       "    </tr>\n",
       "  </thead>\n",
       "  <tbody>\n",
       "    <tr>\n",
       "      <th>count</th>\n",
       "      <td>160359.000000</td>\n",
       "      <td>160359.000000</td>\n",
       "      <td>160359.000000</td>\n",
       "      <td>160359.000000</td>\n",
       "      <td>160359.000000</td>\n",
       "      <td>160359.000000</td>\n",
       "      <td>160359.000000</td>\n",
       "      <td>160359.000000</td>\n",
       "      <td>160359.000000</td>\n",
       "      <td>160359.000000</td>\n",
       "      <td>...</td>\n",
       "      <td>160359.000000</td>\n",
       "      <td>160359.000000</td>\n",
       "      <td>160359.000000</td>\n",
       "      <td>160359.000000</td>\n",
       "      <td>160359.000000</td>\n",
       "      <td>160359.000000</td>\n",
       "      <td>160359.000000</td>\n",
       "      <td>160359.000000</td>\n",
       "      <td>160359.000000</td>\n",
       "      <td>160359.000000</td>\n",
       "    </tr>\n",
       "    <tr>\n",
       "      <th>mean</th>\n",
       "      <td>105.553758</td>\n",
       "      <td>123.331338</td>\n",
       "      <td>17.211973</td>\n",
       "      <td>0.410004</td>\n",
       "      <td>95.724344</td>\n",
       "      <td>485.840890</td>\n",
       "      <td>597.361022</td>\n",
       "      <td>1467.035653</td>\n",
       "      <td>1260.956434</td>\n",
       "      <td>9.894999</td>\n",
       "      <td>...</td>\n",
       "      <td>338.789821</td>\n",
       "      <td>2349.645243</td>\n",
       "      <td>8088.950972</td>\n",
       "      <td>9.054747</td>\n",
       "      <td>0.025185</td>\n",
       "      <td>360.698801</td>\n",
       "      <td>2273.754039</td>\n",
       "      <td>98.389146</td>\n",
       "      <td>25.942709</td>\n",
       "      <td>15.565700</td>\n",
       "    </tr>\n",
       "    <tr>\n",
       "      <th>std</th>\n",
       "      <td>72.867325</td>\n",
       "      <td>83.538146</td>\n",
       "      <td>16.527988</td>\n",
       "      <td>0.367938</td>\n",
       "      <td>12.359044</td>\n",
       "      <td>30.420388</td>\n",
       "      <td>42.478516</td>\n",
       "      <td>118.175261</td>\n",
       "      <td>136.300073</td>\n",
       "      <td>4.265554</td>\n",
       "      <td>...</td>\n",
       "      <td>164.193480</td>\n",
       "      <td>111.167242</td>\n",
       "      <td>80.623257</td>\n",
       "      <td>0.751581</td>\n",
       "      <td>0.004997</td>\n",
       "      <td>31.021430</td>\n",
       "      <td>142.513114</td>\n",
       "      <td>4.656270</td>\n",
       "      <td>11.691422</td>\n",
       "      <td>7.015067</td>\n",
       "    </tr>\n",
       "    <tr>\n",
       "      <th>min</th>\n",
       "      <td>1.000000</td>\n",
       "      <td>1.000000</td>\n",
       "      <td>-0.008700</td>\n",
       "      <td>-0.000600</td>\n",
       "      <td>60.000000</td>\n",
       "      <td>445.000000</td>\n",
       "      <td>535.480000</td>\n",
       "      <td>1242.670000</td>\n",
       "      <td>1023.770000</td>\n",
       "      <td>3.910000</td>\n",
       "      <td>...</td>\n",
       "      <td>128.310000</td>\n",
       "      <td>2027.570000</td>\n",
       "      <td>7845.780000</td>\n",
       "      <td>8.156300</td>\n",
       "      <td>0.020000</td>\n",
       "      <td>302.000000</td>\n",
       "      <td>1915.000000</td>\n",
       "      <td>84.930000</td>\n",
       "      <td>10.160000</td>\n",
       "      <td>6.010500</td>\n",
       "    </tr>\n",
       "    <tr>\n",
       "      <th>25%</th>\n",
       "      <td>44.000000</td>\n",
       "      <td>57.000000</td>\n",
       "      <td>0.001300</td>\n",
       "      <td>0.000200</td>\n",
       "      <td>100.000000</td>\n",
       "      <td>449.440000</td>\n",
       "      <td>549.960000</td>\n",
       "      <td>1357.360000</td>\n",
       "      <td>1126.830000</td>\n",
       "      <td>5.480000</td>\n",
       "      <td>...</td>\n",
       "      <td>164.790000</td>\n",
       "      <td>2387.970000</td>\n",
       "      <td>8070.530000</td>\n",
       "      <td>8.439250</td>\n",
       "      <td>0.020000</td>\n",
       "      <td>332.000000</td>\n",
       "      <td>2212.000000</td>\n",
       "      <td>100.000000</td>\n",
       "      <td>14.330000</td>\n",
       "      <td>8.601300</td>\n",
       "    </tr>\n",
       "    <tr>\n",
       "      <th>50%</th>\n",
       "      <td>89.000000</td>\n",
       "      <td>114.000000</td>\n",
       "      <td>19.998100</td>\n",
       "      <td>0.620000</td>\n",
       "      <td>100.000000</td>\n",
       "      <td>489.050000</td>\n",
       "      <td>605.930000</td>\n",
       "      <td>1492.810000</td>\n",
       "      <td>1271.740000</td>\n",
       "      <td>9.350000</td>\n",
       "      <td>...</td>\n",
       "      <td>321.690000</td>\n",
       "      <td>2388.070000</td>\n",
       "      <td>8118.590000</td>\n",
       "      <td>9.030100</td>\n",
       "      <td>0.030000</td>\n",
       "      <td>367.000000</td>\n",
       "      <td>2319.000000</td>\n",
       "      <td>100.000000</td>\n",
       "      <td>24.920000</td>\n",
       "      <td>14.953500</td>\n",
       "    </tr>\n",
       "    <tr>\n",
       "      <th>75%</th>\n",
       "      <td>164.000000</td>\n",
       "      <td>173.000000</td>\n",
       "      <td>35.001500</td>\n",
       "      <td>0.840000</td>\n",
       "      <td>100.000000</td>\n",
       "      <td>518.670000</td>\n",
       "      <td>642.340000</td>\n",
       "      <td>1586.590000</td>\n",
       "      <td>1402.200000</td>\n",
       "      <td>14.620000</td>\n",
       "      <td>...</td>\n",
       "      <td>521.340000</td>\n",
       "      <td>2388.160000</td>\n",
       "      <td>8139.410000</td>\n",
       "      <td>9.344200</td>\n",
       "      <td>0.030000</td>\n",
       "      <td>392.000000</td>\n",
       "      <td>2388.000000</td>\n",
       "      <td>100.000000</td>\n",
       "      <td>38.820000</td>\n",
       "      <td>23.294600</td>\n",
       "    </tr>\n",
       "    <tr>\n",
       "      <th>max</th>\n",
       "      <td>260.000000</td>\n",
       "      <td>543.000000</td>\n",
       "      <td>42.008000</td>\n",
       "      <td>0.842000</td>\n",
       "      <td>100.000000</td>\n",
       "      <td>518.670000</td>\n",
       "      <td>645.110000</td>\n",
       "      <td>1616.910000</td>\n",
       "      <td>1441.490000</td>\n",
       "      <td>14.620000</td>\n",
       "      <td>...</td>\n",
       "      <td>537.490000</td>\n",
       "      <td>2390.490000</td>\n",
       "      <td>8293.720000</td>\n",
       "      <td>11.066900</td>\n",
       "      <td>0.030000</td>\n",
       "      <td>400.000000</td>\n",
       "      <td>2388.000000</td>\n",
       "      <td>100.000000</td>\n",
       "      <td>39.890000</td>\n",
       "      <td>23.950500</td>\n",
       "    </tr>\n",
       "  </tbody>\n",
       "</table>\n",
       "<p>8 rows × 26 columns</p>\n",
       "</div>"
      ],
      "text/plain": [
       "         unit_number     cycle_time   op_setting_1   op_setting_2  \\\n",
       "count  160359.000000  160359.000000  160359.000000  160359.000000   \n",
       "mean      105.553758     123.331338      17.211973       0.410004   \n",
       "std        72.867325      83.538146      16.527988       0.367938   \n",
       "min         1.000000       1.000000      -0.008700      -0.000600   \n",
       "25%        44.000000      57.000000       0.001300       0.000200   \n",
       "50%        89.000000     114.000000      19.998100       0.620000   \n",
       "75%       164.000000     173.000000      35.001500       0.840000   \n",
       "max       260.000000     543.000000      42.008000       0.842000   \n",
       "\n",
       "        op_setting_3             s1             s2             s3  \\\n",
       "count  160359.000000  160359.000000  160359.000000  160359.000000   \n",
       "mean       95.724344     485.840890     597.361022    1467.035653   \n",
       "std        12.359044      30.420388      42.478516     118.175261   \n",
       "min        60.000000     445.000000     535.480000    1242.670000   \n",
       "25%       100.000000     449.440000     549.960000    1357.360000   \n",
       "50%       100.000000     489.050000     605.930000    1492.810000   \n",
       "75%       100.000000     518.670000     642.340000    1586.590000   \n",
       "max       100.000000     518.670000     645.110000    1616.910000   \n",
       "\n",
       "                  s4             s5      ...                  s12  \\\n",
       "count  160359.000000  160359.000000      ...        160359.000000   \n",
       "mean     1260.956434       9.894999      ...           338.789821   \n",
       "std       136.300073       4.265554      ...           164.193480   \n",
       "min      1023.770000       3.910000      ...           128.310000   \n",
       "25%      1126.830000       5.480000      ...           164.790000   \n",
       "50%      1271.740000       9.350000      ...           321.690000   \n",
       "75%      1402.200000      14.620000      ...           521.340000   \n",
       "max      1441.490000      14.620000      ...           537.490000   \n",
       "\n",
       "                 s13            s14            s15            s16  \\\n",
       "count  160359.000000  160359.000000  160359.000000  160359.000000   \n",
       "mean     2349.645243    8088.950972       9.054747       0.025185   \n",
       "std       111.167242      80.623257       0.751581       0.004997   \n",
       "min      2027.570000    7845.780000       8.156300       0.020000   \n",
       "25%      2387.970000    8070.530000       8.439250       0.020000   \n",
       "50%      2388.070000    8118.590000       9.030100       0.030000   \n",
       "75%      2388.160000    8139.410000       9.344200       0.030000   \n",
       "max      2390.490000    8293.720000      11.066900       0.030000   \n",
       "\n",
       "                 s17            s18            s19            s20  \\\n",
       "count  160359.000000  160359.000000  160359.000000  160359.000000   \n",
       "mean      360.698801    2273.754039      98.389146      25.942709   \n",
       "std        31.021430     142.513114       4.656270      11.691422   \n",
       "min       302.000000    1915.000000      84.930000      10.160000   \n",
       "25%       332.000000    2212.000000     100.000000      14.330000   \n",
       "50%       367.000000    2319.000000     100.000000      24.920000   \n",
       "75%       392.000000    2388.000000     100.000000      38.820000   \n",
       "max       400.000000    2388.000000     100.000000      39.890000   \n",
       "\n",
       "                 s21  \n",
       "count  160359.000000  \n",
       "mean       15.565700  \n",
       "std         7.015067  \n",
       "min         6.010500  \n",
       "25%         8.601300  \n",
       "50%        14.953500  \n",
       "75%        23.294600  \n",
       "max        23.950500  \n",
       "\n",
       "[8 rows x 26 columns]"
      ]
     },
     "execution_count": 57,
     "metadata": {},
     "output_type": "execute_result"
    }
   ],
   "source": [
    "df.describe()"
   ]
  },
  {
   "cell_type": "markdown",
   "metadata": {},
   "source": [
    "## Data Cleaning"
   ]
  },
  {
   "cell_type": "markdown",
   "metadata": {},
   "source": [
    "As we saw there are no missing values in this dataset."
   ]
  },
  {
   "cell_type": "code",
   "execution_count": 58,
   "metadata": {},
   "outputs": [
    {
     "data": {
      "text/html": [
       "<div>\n",
       "<style scoped>\n",
       "    .dataframe tbody tr th:only-of-type {\n",
       "        vertical-align: middle;\n",
       "    }\n",
       "\n",
       "    .dataframe tbody tr th {\n",
       "        vertical-align: top;\n",
       "    }\n",
       "\n",
       "    .dataframe thead th {\n",
       "        text-align: right;\n",
       "    }\n",
       "</style>\n",
       "<table border=\"1\" class=\"dataframe\">\n",
       "  <thead>\n",
       "    <tr style=\"text-align: right;\">\n",
       "      <th></th>\n",
       "      <th>unit_number</th>\n",
       "      <th>cycle_time</th>\n",
       "      <th>op_setting_1</th>\n",
       "      <th>op_setting_2</th>\n",
       "      <th>op_setting_3</th>\n",
       "      <th>s1</th>\n",
       "      <th>s2</th>\n",
       "      <th>s3</th>\n",
       "      <th>s4</th>\n",
       "      <th>s5</th>\n",
       "      <th>...</th>\n",
       "      <th>s13</th>\n",
       "      <th>s14</th>\n",
       "      <th>s15</th>\n",
       "      <th>s16</th>\n",
       "      <th>s17</th>\n",
       "      <th>s18</th>\n",
       "      <th>s19</th>\n",
       "      <th>s20</th>\n",
       "      <th>s21</th>\n",
       "      <th>dataset</th>\n",
       "    </tr>\n",
       "  </thead>\n",
       "  <tbody>\n",
       "  </tbody>\n",
       "</table>\n",
       "<p>0 rows × 27 columns</p>\n",
       "</div>"
      ],
      "text/plain": [
       "Empty DataFrame\n",
       "Columns: [unit_number, cycle_time, op_setting_1, op_setting_2, op_setting_3, s1, s2, s3, s4, s5, s6, s7, s8, s9, s10, s11, s12, s13, s14, s15, s16, s17, s18, s19, s20, s21, dataset]\n",
       "Index: []\n",
       "\n",
       "[0 rows x 27 columns]"
      ]
     },
     "execution_count": 58,
     "metadata": {},
     "output_type": "execute_result"
    }
   ],
   "source": [
    "duplicateRowsDF = df[df.duplicated()]\n",
    "duplicateRowsDF"
   ]
  },
  {
   "cell_type": "markdown",
   "metadata": {},
   "source": [
    "There are also no duplicate rows. This is expected. "
   ]
  },
  {
   "cell_type": "markdown",
   "metadata": {},
   "source": [
    "### Outlier Check"
   ]
  },
  {
   "cell_type": "markdown",
   "metadata": {},
   "source": [
    "Plotting Boxplots for each variable and each time-series will be too time consuming and generate too many plots. We can use a more succint method by calculating the IQR-score for each variable in each time-series, to weed out the timeseries which show no outliers. If a Time-Series has a datapoint smaller or larger than 1.5 the IQR range we will plot a boxplot and scatter plot to investigate."
   ]
  },
  {
   "cell_type": "markdown",
   "metadata": {},
   "source": [
    "```\n",
    "# might be useful later\n",
    "# iterate over unique datasets and unit_numbers. isolating a single timeseries\n",
    "\n",
    "for dataset in df[\"dataset\"].unique() :\n",
    "    for unit_number in  df[(df[\"dataset\"] == dataset)]['unit_number'].unique() :\n",
    "        time_series = df[(df[\"dataset\"] == dataset) & (df[\"unit_number\"] == unit_number)]\n",
    "```"
   ]
  },
  {
   "cell_type": "code",
   "execution_count": 59,
   "metadata": {},
   "outputs": [],
   "source": [
    "#time_series = df[(df[\"dataset\"] == 'FD001') & (df[\"unit_number\"] == 5)]\n",
    "#print(type(time_series))\n",
    "#print(time_series.describe())\n",
    "\n",
    "Q1 = df.quantile(0.25)\n",
    "Q3 = df.quantile(0.75)\n",
    "IQR = Q3 - Q1\n",
    "lower = Q1 - 1.5 * IQR\n",
    "upper = Q3 + 1.5 * IQR\n"
   ]
  },
  {
   "cell_type": "code",
   "execution_count": 60,
   "metadata": {},
   "outputs": [],
   "source": [
    "sns.set() #setting default Seaborn plot style\n",
    "\n",
    "\n",
    "Q1 = df.quantile(0.25)\n",
    "Q3 = df.quantile(0.75)\n",
    "IQR = Q3 - Q1\n",
    "lower = Q1 - 1.5 * IQR\n",
    "upper = Q3 + 1.5 * IQR\n",
    "\n",
    "for ((col_name, lower_val),(col_name, upper_val)) in zip(lower.items(),upper.items()):\n",
    "    #print(lower_val,upper_val)\n",
    "    outliers = (df[col_name] < lower_val)|(df[col_name] > upper_val)\n",
    "    if(sum(outliers)>0) :\n",
    "        #print(col_name, lower_val)\n",
    "        #print(time_series[col_name])\n",
    "        _ = plt.figure(figsize=(15,5))\n",
    "        gs = gridspec.GridSpec(1, 2, width_ratios=[1, 6]) \n",
    "        ax0 = plt.subplot(gs[0])\n",
    "        ax0 = plt.title('Outliers Check')\n",
    "        ax0 = sns.boxplot(x=col_name, data=df, orient='v',notch=True, width=0.1, flierprops = dict(marker='*', markerfacecolor='red', markersize=10))\n",
    "        dump, dump2, ymin, ymax = plt.axis()\n",
    "        ax1 = plt.subplot(gs[1])\n",
    "        ax1 = plt.title('Outliers Check')\n",
    "        ax1 = plt.scatter(df['cycle_time'], df[col_name],c=outliers, cmap=plt.cm.bwr, alpha=0.5, s=5)\n",
    "        ax1 = plt.xlabel('Time Cycle')\n",
    "        xmin, xmax, dump, dump2 = plt.axis()\n",
    "        plt.axis([xmin, xmax, ymin, ymax])\n",
    "        #ax1 = plt.ylabel(col_name)\n",
    "            \n",
    "        plt.tight_layout()\n",
    "        savefile = 'figures/outliers/'+filename[:-4]+'_outliers_'+col_name+'.png'\n",
    "        plt.savefig(savefile)\n",
    "        plt.close()"
   ]
  },
  {
   "cell_type": "markdown",
   "metadata": {},
   "source": [
    "The outliers here identified seem to be simply extreme values of the data. There seem to be no outliers in this dataset that needs to be removed. A few examples are provided for clarification"
   ]
  },
  {
   "cell_type": "markdown",
   "metadata": {},
   "source": [
    "#### *cycle_time* \n",
    "In this case, it looks like there are many outliers form the boxplot. But the scatter plot reveals that these are regular data point in a distribution heavily skewed towards lower values. \n",
    "Intuition: All cycles start at zero, few engine survives over 350 cycles."
   ]
  },
  {
   "cell_type": "code",
   "execution_count": 66,
   "metadata": {},
   "outputs": [
    {
     "data": {
      "image/png": "[encoded data removed]",
      "text/plain": [
       "<IPython.core.display.Image object>"
      ]
     },
     "execution_count": 66,
     "metadata": {},
     "output_type": "execute_result"
    }
   ],
   "source": [
    "\n",
    "Image(filename='figures/outliers/train_outliers_cycle_time.png') "
   ]
  },
  {
   "cell_type": "markdown",
   "metadata": {},
   "source": [
    "#### *op_setting_3* \n",
    "It seem to take only 2 values: 100% and 60%. Given the high quantity of values at 60% we cannot rule them outliers and exclude them from the data set."
   ]
  },
  {
   "cell_type": "code",
   "execution_count": 67,
   "metadata": {},
   "outputs": [
    {
     "data": {
      "image/png": "[encoded data removed]",
      "text/plain": [
       "<IPython.core.display.Image object>"
      ]
     },
     "execution_count": 67,
     "metadata": {},
     "output_type": "execute_result"
    }
   ],
   "source": [
    "Image(filename='figures/outliers/train_outliers_op_setting_3.png') "
   ]
  },
  {
   "cell_type": "markdown",
   "metadata": {},
   "source": [
    "#### *s14* \n",
    "The outliers identified here look like normal datapoint, extreme when compared to the IQR of the distribution."
   ]
  },
  {
   "cell_type": "code",
   "execution_count": 69,
   "metadata": {},
   "outputs": [
    {
     "data": {
      "image/png": "[encoded data removed]",
      "text/plain": [
       "<IPython.core.display.Image object>"
      ]
     },
     "execution_count": 69,
     "metadata": {},
     "output_type": "execute_result"
    }
   ],
   "source": [
    "Image(filename='figures/outliers/train_outliers_s14.png') "
   ]
  },
  {
   "cell_type": "markdown",
   "metadata": {},
   "source": [
    "\n",
    "## Conclusions\n",
    "\n",
    "No changes to the data set are needed. It's ready to be analyzed.\n",
    "\n",
    "(The same analysis has been done on train.csv, test.csv. The same conclusion was reached\n",
    "While RUL.csv has a number of duplicate rows, they should not be removed.)\n"
   ]
  },
  {
   "cell_type": "code",
   "execution_count": null,
   "metadata": {},
   "outputs": [],
   "source": []
  }
 ],
 "metadata": {
  "kernelspec": {
   "display_name": "Python [conda env:Jet]",
   "language": "python",
   "name": "conda-env-Jet-py"
  },
  "language_info": {
   "codemirror_mode": {
    "name": "ipython",
    "version": 3
   },
   "file_extension": ".py",
   "mimetype": "text/x-python",
   "name": "python",
   "nbconvert_exporter": "python",
   "pygments_lexer": "ipython3",
   "version": "3.5.5"
  }
 },
 "nbformat": 4,
 "nbformat_minor": 4
}
